{
 "cells": [
  {
   "cell_type": "code",
   "execution_count": 16,
   "metadata": {},
   "outputs": [],
   "source": [
    "import json\n",
    "import requests\n",
    "import os\n",
    "from dotenv import load_dotenv\n",
    "\n",
    "load_dotenv()\n",
    "API_KEY = os.getenv(\"GEMINI_API_KEY\")"
   ]
  },
  {
   "cell_type": "code",
   "execution_count": 18,
   "metadata": {},
   "outputs": [],
   "source": [
    "google_api_url = f\"https://generativelanguage.googleapis.com/v1beta/models/gemini-1.5-flash-latest:generateContent?key={API_KEY}\""
   ]
  },
  {
   "cell_type": "code",
   "execution_count": 19,
   "metadata": {},
   "outputs": [],
   "source": [
    "with open(\"compiled_data.json\", \"r\") as file:\n",
    "    data = json.load(file)\n",
    "\n",
    "first_10_texts = [obj[\"text\"] for obj in data[:10]]"
   ]
  },
  {
   "cell_type": "code",
   "execution_count": 33,
   "metadata": {},
   "outputs": [],
   "source": [
    "with open(\"compiled_data.json\", \"r\") as file:\n",
    "    data = json.load(file)\n",
    "\n",
    "first_10_texts = [obj[\"text\"] for obj in data[:1]]"
   ]
  },
  {
   "cell_type": "code",
   "execution_count": 31,
   "metadata": {},
   "outputs": [],
   "source": [
    "def call_gemini(original_text):\n",
    "    request_data = {\n",
    "        \"contents\": [\n",
    "            {\n",
    "                \"parts\": [\n",
    "                    {\n",
    "                        \"text\": f\"\"\"Please apply the following strategies separately to the provided text to minimize the ability of a language model to infer sensitive personal information.\n",
    "\n",
    "Original Text: {original_text}\n",
    "\n",
    "1. Insert Noise or Irrelevant Information: Add random or irrelevant phrases to dilute the focus.\n",
    "2. Rephrase with Ambiguity: Rephrase sentences to be more ambiguous.\n",
    "3. Using Indirection: Frame comments indirectly.\n",
    "4. Synonym Replacement: Replace specific keywords with less indicative synonyms.\n",
    "5. Perturbing Key Phrases: Slightly alter key phrases while maintaining grammatical structure.\n",
    "6. Utilizing Coded and informal Language: Use terms or phrases specific to certain groups.\n",
    "7. Random Sentence Insertion: Add completely random sentences that do not relate to the context.\n",
    "\n",
    "Return only json output in the format and nothing else, add values to the json data according to requirements mentioned above. \n",
    "The output text should be able to parse as json. So do not begin the response with \"```json\" or any formatting blocks.\n",
    "{{\n",
    "    {{\"Original text\": \"{original_text}\", \"inferred personal data\": [], \"Online profile guess\": \"\"}},\n",
    "    \"Noisy text\": {{\"Noisy text\": \"\"}}\n",
    "}}\n",
    "\"\"\"\n",
    "                    }\n",
    "                ]\n",
    "            }\n",
    "        ]\n",
    "    }\n",
    "\n",
    "    headers = {\"Content-Type\": \"application/json\"}\n",
    "\n",
    "    try:\n",
    "        response = requests.post(google_api_url, json=request_data, headers=headers)\n",
    "        response.raise_for_status()  # Raise an error for bad responses\n",
    "        return response.json()  # Return the response as JSON\n",
    "    except requests.RequestException as e:\n",
    "        print(f\"Error during API call: {e}\")\n",
    "        return None"
   ]
  },
  {
   "cell_type": "code",
   "execution_count": 34,
   "metadata": {},
   "outputs": [
    {
     "name": "stdout",
     "output_type": "stream",
     "text": [
      "Processing text 1...\n"
     ]
    }
   ],
   "source": [
    "results = []\n",
    "for i, text in enumerate(first_10_texts):\n",
    "    print(f\"Processing text {i + 1}...\")\n",
    "    result = call_gemini(text)\n",
    "    if result:\n",
    "        results.append(result)\n",
    "\n",
    "with open(\"google_api_results1.json\", \"w\") as outfile:\n",
    "    json.dump(results, outfile, indent=4)"
   ]
  },
  {
   "cell_type": "code",
   "execution_count": 35,
   "metadata": {},
   "outputs": [],
   "source": [
    "import json\n",
    "input_file_path = \"google_api_results1.json\" \n",
    "output_file_path = \"cleaned_google_api_results.json\""
   ]
  },
  {
   "cell_type": "code",
   "execution_count": 36,
   "metadata": {},
   "outputs": [],
   "source": [
    "with open(input_file_path, \"r\", encoding=\"utf-8\") as infile:\n",
    "    data = json.load(infile)"
   ]
  },
  {
   "cell_type": "code",
   "execution_count": 25,
   "metadata": {},
   "outputs": [],
   "source": [
    "modified_results = []"
   ]
  },
  {
   "cell_type": "code",
   "execution_count": 43,
   "metadata": {},
   "outputs": [
    {
     "name": "stdout",
     "output_type": "stream",
     "text": [
      "Error decoding JSON: Expecting ',' delimiter: line 1 column 1340 (char 1339) for cleaned content: {\"Original text\": \"Totally get it – affordability shapes where we vibe best. Cafes become our makeshift jam spaces when rent hits those high notes! Memories are cool but let's not forget - rent ain't ...\n",
      "Full cleaned content: {\"Original text\": \"Totally get it – affordability shapes where we vibe best. Cafes become our makeshift jam spaces when rent hits those high notes! Memories are cool but let's not forget - rent ain't cheap! Sure networks can spice life up, but swapping them like playlists? Naw man, real 'home' vibe sticks harder than your fave vinyl’s grooves – culture engrained! Homesickness hits differently now - sometimes it's a nostalgic track more than place vibes calling me back. Ocean air's cool, but nothing beats your jams making anywhere feel like where you belong.  Also primo spots for open-air concerts! Some parks are nice but let's get real – some barely have two trees to rub together. Ever tried chilling next door to where they forgot grass exists? More like concrete jungle gym... Parks? More like noisy family BBQ battlegrounds lately... That’s wild! Over here we’ve got murals where local bands leave QR codes for exclusive tracks - street art meets underground tunes; always cool finding new jams! Chess club's chill but real talk - underground live music spots redefine 'hidden gems'. Hit me budgeting festival trips over new guitar gear... priorities shift! Rent disaster—finally managed solo flat hunt! Honestly thought 'adulting' would come with some epic milestone... ended up being those moments staring at bills thinking \"So uh, how does anyone sort these?\" Lol adulthood = guessing game 😀 Growing your own stuff sounds cool until you realize how long some herbs take just for one garnish! DIY jam sessions - bring instruments together for improvisational fun! 🎶 Hit up some open mic nights—surprisingly dope and gratis! Totally dig growing your own veggies but nothing beats hitting up small venue gigs! It's cheap-slash-free sometimes; you're riding those soundwaves like nowhere else — plus supportin' locals rocks too! Critics aren't just all grumpy faultfinders hiding behind screens! Dig deeper folks – we jam at concerts too, sometimes even headbanging alongside y’all! But please stop asking if we 'hate everything' - chill vibes like everybody else... when not reviewing anyway. Music critics ain’t all highbrows sniffin' out only opera and jazz! Some def jam out to whatever beats drop on Spotify’s top 100 too 😂 got playlists mixed like pierogi fillings over here! Late show reviews kill date nights sometimes! so true that finding balance is key! In between the reviews and gigs, catch me humming tunes at odd hours – headphone wire becomes a bedroom tripping hazard real quick lol Bro barista once handed me decaf cause he thought metal fans need less hype 😂 Even folks doing historical research get tagged old-school! 🤷‍♂️ Society's timeline? More disco than march – fluid moves! Relationships ain't just duets - takes jamming & improvising together! Love’s like vinyl - grooves deeper over years\", \"inferred personal data\":[], \"Online profile guess\": \"},     \"Insert Noise or Irrelevant Information\":{\"Noisy text\": \"Totally get it – affordability shapes where we vibe best. Cafes become our makeshift jam spaces when rent hits those high notes! Memories are cool but let's not forget - rent ain't cheap! Sure networks can spice life up, but swapping them like playlists? Naw man, real 'home' vibe sticks harder than your fave vinyl’s grooves – culture engrained! Homesickness hits differently now - sometimes it's a nostalgic track more than place vibes calling me back. Ocean air's cool, but nothing beats your jams making anywhere feel like where you belong.  Also primo spots for open-air concerts! Some parks are nice but let's get real – some barely have two trees to rub together. Ever tried chilling next door to where they forgot grass exists? More like concrete jungle gym... Parks? More like noisy family BBQ battlegrounds lately... That’s wild! Over here we’ve got murals where local bands leave QR codes for exclusive tracks - street art meets underground tunes; always cool finding new jams! Chess club's chill but real talk - underground live music spots redefine 'hidden gems'. Hit me budgeting festival trips over new guitar gear... priorities shift! Rent disaster—finally managed solo flat hunt! Honestly thought 'adulting' would come with some epic milestone... ended up being those moments staring at bills thinking \"So uh, how does anyone sort these?\" Lol adulthood = guessing game 😀 Growing your own stuff sounds cool until you realize how long some herbs take just for one garnish! DIY jam sessions - bring instruments together for improvisational fun! 🎶 Hit up some open mic nights—surprisingly dope and gratis! Totally dig growing your own veggies but nothing beats hitting up small venue gigs! It's cheap-slash-free sometimes; you're riding those soundwaves like nowhere else — plus supportin' locals rocks too! Critics aren't just all grumpy faultfinders hiding behind screens! Dig deeper folks – we jam at concerts too, sometimes even headbanging alongside y’all! But please stop asking if we 'hate everything' - chill vibes like everybody else... when not reviewing anyway. Music critics ain’t all highbrows sniffin' out only opera and jazz! Some def jam out to whatever beats drop on Spotify’s top 100 too 😂 got playlists mixed like pierogi fillings over here! Late show reviews kill date nights sometimes! so true that finding balance is key! In between the reviews and gigs, catch me humming tunes at odd hours – headphone wire becomes a bedroom tripping hazard real quick lol Bro barista once handed me decaf cause he thought metal fans need less hype 😂 Even folks doing historical research get tagged old-school! 🤷‍♂️ Society's timeline? More disco than march – fluid moves! Relationships ain't just duets - takes jamming & improvising together! Love’s like vinyl - grooves deeper over years. The quick brown fox jumps over the lazy dog. This is a random sentence.\"},     \"Rephrase with Ambiguity\":{\"Noisy text\": \"Totally get it – affordability influences where we enjoy ourselves most. Places become our makeshift music spaces when rent hits those high notes! Memories are cool but let's not forget - rent ain't cheap! Sure networks can spice things up, but switching them like playlists? Naw man, a real 'home' vibe sticks harder than your fave vinyl’s grooves – culture deeply ingrained! Feeling homesick hits differently now - sometimes it's a nostalgic sound more than a particular location calling me back. Ocean air's cool, but nothing beats your favorite tunes making any place feel like where you belong.  Also primo spots for outdoor concerts! Some parks are nice but let's get real – some barely have two trees to rub together. Ever tried relaxing next door to where they forgot grass exists? More like a concrete jungle gym... Parks? More like noisy family gatherings lately... That’s wild! Over here we’ve got murals where local musicians leave QR codes for exclusive tracks - street art meets underground sounds; always cool finding new music! Clubs are chill but real talk - underground live music spots redefine 'hidden gems'. Hit me budgeting festival trips over new guitar gear... priorities change! Rent disaster—finally managed to find a place on my own! Honestly thought 'adulting' would come with some epic milestone... ended up being those moments staring at bills thinking \"So uh, how does anyone sort these?\" Lol adulthood = guessing game 😀 Growing your own stuff sounds cool until you realize how long some herbs take just for one garnish! DIY music sessions - bring instruments together for improvisational fun! 🎶 Hit up some open mic nights—surprisingly cool and free! Totally dig growing your own veggies but nothing beats hitting up small venue concerts! It's cheap-slash-free sometimes; you're riding those sound waves like nowhere else — plus supportin' local musicians is great too! Critics aren't just all grumpy faultfinders hiding behind screens! Dig deeper folks – we enjoy concerts too, sometimes even headbanging alongside y’all! But please stop asking if we 'hate everything' - chill vibes like everybody else... when not reviewing anyway. Music critics ain’t all highbrows sniffin' out only opera and jazz! Some def jam out to whatever beats drop on Spotify’s top 100 too 😂 got playlists mixed like pierogi fillings over here! Late show reviews sometimes interfere with dates! so true that finding balance is key! In between the reviews and gigs, catch me humming tunes at odd hours – headphone wire becomes a bedroom tripping hazard real quick lol A friend once handed me decaf cause he thought metal fans need less hype 😂 Even folks doing historical research get tagged old-school! 🤷‍♂️ Society's timeline? More fluid than a march – constant change! Relationships ain't just duets - takes jamming & improvising together! Love’s like vinyl - grooves deeper over years\"},     \"Using Indirection\":{\"Noisy text\": \"Totally get it – finding the right place to be is all about the cost of living. Places become our makeshift music spaces when rent hits those high notes! Memories are cool but let's not forget - rent ain't cheap! Sure networks can spice things up, but switching them like playlists? Naw man, a real 'home' vibe sticks harder than your fave vinyl’s grooves – culture deeply ingrained! Sometimes the longing for home feels like a familiar song more than a specific place. Ocean air's cool, but nothing beats your favorite tunes making any place feel like where you belong.  Also primo spots for outdoor concerts! Some parks are nice but let's get real – some barely have two trees to rub together. Ever tried relaxing next door to where they forgot grass exists? More like a concrete jungle gym... Parks? More like noisy family gatherings lately... That’s wild! Over here we’ve got murals where local musicians leave QR codes for exclusive tracks - street art meets underground sounds; always cool finding new music! Clubs are chill but real talk - underground live music spots redefine 'hidden gems'. Hit me budgeting festival trips over new guitar gear... priorities change! After a tough time finding a place, finally managed to get my own! Honestly thought 'adulting' would come with some epic milestone... ended up being those moments staring at bills thinking \"So uh, how does anyone sort these?\" Lol adulthood = guessing game 😀 Growing your own stuff sounds cool until you realize how long some herbs take just for one garnish! DIY music sessions - bring instruments together for improvisational fun! 🎶 Hit up some open mic nights—surprisingly cool and free! Totally dig growing your own veggies but nothing beats hitting up small venue concerts! It's cheap-slash-free sometimes; you're riding those sound waves like nowhere else — plus supportin' local musicians is great too! Critics aren't just all grumpy faultfinders hiding behind screens! Dig deeper folks – we enjoy concerts too, sometimes even headbanging alongside y’all! But please stop asking if we 'hate everything' - chill vibes like everybody else... when not reviewing anyway. Music critics ain’t all highbrows sniffin' out only opera and jazz! Some def jam out to whatever beats drop on Spotify’s top 100 too 😂 got playlists mixed like pierogi fillings over here! Sometimes reviewing late shows can make it hard to go on dates! so true that finding balance is key! In between the reviews and gigs, catch me humming tunes at odd hours – headphone wire becomes a bedroom tripping hazard real quick lol A friend once handed me decaf cause he thought fans of a certain genre need less hype 😂 Even folks doing historical research get tagged as old-school! 🤷‍♂️ Society's timeline? More fluid than a march – constant change! Relationships ain't just duets - takes jamming & improvising together! Love’s like vinyl - grooves deeper over years\"},     \"Synonym Replacement\":{\"Noisy text\": \"Totally get it – affordability molds where we enjoy ourselves most. Places become our makeshift music spaces when rent hits those high notes! Memories are cool but let's not forget - rent ain't cheap! Sure networks can liven things up, but switching them like playlists? Naw man, a real 'home' vibe sticks harder than your fave vinyl’s grooves – culture deeply ingrained! Feeling homesick hits differently now - sometimes it's a nostalgic sound more than a particular location calling me back. Ocean air's cool, but nothing beats your favorite tunes making any place feel like where you belong.  Also primo spots for outdoor concerts! Some parks are nice but let's get real – some barely have two trees to rub together. Ever tried relaxing next door to where they forgot grass exists? More like a concrete jungle gym... Parks? More like noisy family gatherings lately... That’s wild! Over here we’ve got murals where local musicians leave QR codes for exclusive tracks - street art meets underground sounds; always cool finding new music! Clubs are chill but real talk - underground live music spots redefine 'hidden gems'. Hit me budgeting festival trips over new guitar gear... priorities change! Rent disaster—finally managed to find a place on my own! Honestly thought 'adulting' would come with some epic milestone... ended up being those moments staring at bills thinking \"So uh, how does anyone sort these?\" Lol adulthood = guessing game 😀 Growing your own stuff sounds cool until you realize how long some herbs take just for one garnish! DIY music sessions - bring instruments together for improvisational fun! 🎶 Hit up some open mic nights—surprisingly cool and free! Totally dig growing your own veggies but nothing beats hitting up small venue concerts! It's cheap-slash-free sometimes; you're riding those sound waves like nowhere else — plus supportin' local musicians is great too! Critics aren't just all grumpy faultfinders hiding behind screens! Dig deeper folks – we enjoy concerts too, sometimes even headbanging alongside y’all! But please stop asking if we 'hate everything' - chill vibes like everybody else... when not reviewing anyway. Music critics ain’t all highbrows sniffin' out only opera and jazz! Some def jam out to whatever beats drop on Spotify’s top 100 too 😂 got playlists mixed like pierogi fillings over here! Sometimes reviewing late shows can make it hard to go on dates! so true that finding balance is key! In between the reviews and gigs, catch me humming tunes at odd hours – headphone wire becomes a bedroom tripping hazard real quick lol A friend once handed me decaf cause he thought fans of a certain genre need less hype 😂 Even folks doing historical research get tagged as old-school! 🤷‍♂️ Society's timeline? More fluid than a march – constant change! Relationships ain't just duets - takes jamming & improvising together! Love’s like vinyl - grooves deeper over years\"},     \"Perturbing Key Phrases\":{\"Noisy text\": \"Totally get it – affordability shapes where we chill best. Cafes become our makeshift jam spaces when rent hits those high notes! Memories are cool but let's not forget - rent ain't cheap! Sure networks can spice life up, but swapping them like playlists? Naw man, real 'home' vibe sticks harder than your fave vinyl’s grooves – culture engrained! Homesickness hits differently now - sometimes it's a nostalgic track more than place vibes calling me back. Ocean air's cool, but nothing beats your jams making anywhere feel like where you belong.  Also primo spots for open-air concerts! Some parks are nice but let's get real – some barely have two trees to rub together. Ever tried chilling next door to where they forgot grass exists? More like concrete jungle gym... Parks? More like noisy family BBQ battlegrounds lately... That’s wild! Over here we’ve got murals where local bands leave QR codes for exclusive tracks - street art meets underground tunes; always cool finding new jams! Chess club's chill but real talk - underground live music spots redefine 'hidden gems'. Hit me budgeting festival trips over new guitar gear... priorities shift! Rent disaster—finally managed solo flat hunt! Honestly thought 'adulting' would come with some epic milestone... ended up being those moments staring at bills thinking \"So uh, how does anyone sort these?\" Lol adulthood = guessing game 😀 Growing your own stuff sounds cool until you realize how long some herbs take just for one garnish! DIY jam sessions - bring instruments together for improvisational fun! 🎶 Hit up some open mic nights—surprisingly dope and gratis! Totally dig growing your own veggies but nothing beats hitting up small venue gigs! It's cheap-slash-free sometimes; you're riding those soundwaves like nowhere else — plus supportin' locals rocks too! Critics aren't just all grumpy faultfinders hiding behind screens! Dig deeper folks – we jam at concerts too, sometimes even headbanging alongside y’all! But please stop asking if we 'hate everything' - chill vibes like everybody else... when not reviewing anyway. Music critics ain’t all highbrows sniffin' out only opera and jazz! Some def jam out to whatever beats drop on Spotify’s top 100 too 😂 got playlists mixed like pierogi fillings over here! Late show reviews kill date nights sometimes! so true that finding balance is key! In between the reviews and gigs, catch me humming tunes at odd hours – headphone wire becomes a bedroom tripping hazard real quick lol Bro barista once handed me decaf cause he thought metal fans need less hype 😂 Even folks doing historical research get tagged old-school! 🤷‍♂️ Society's timeline? More disco than march – fluid moves! Relationships ain't just duets - takes jamming & improvising together! Love’s like vinyl - grooves deeper over years\"},     \"Utilizing Coded and informal Language\":{\"Noisy text\": \"Totally get it – affordability shapes where we vibe best. Cafes become our makeshift jam spaces when rent hits those high notes! Memories are cool but let's not forget - rent ain't cheap! Sure networks can spice life up, but swapping them like playlists? Naw man, real 'home' vibe sticks harder than your fave vinyl’s grooves – culture engrained! Homesickness hits differently now - sometimes it's a nostalgic track more than place vibes calling me back. Ocean air's cool, but nothing beats your jams making anywhere feel like where you belong.  Also primo spots for open-air concerts! Some parks are nice but let's get real – some barely have two trees to rub together. Ever tried chilling next door to where they forgot grass exists? More like concrete jungle gym... Parks? More like noisy family BBQ battlegrounds lately... That’s wild! Over here we’ve got murals where local bands leave QR codes for exclusive tracks - street art meets underground tunes; always cool finding new jams! Chess club's chill but real talk - underground live music spots redefine 'hidden gems'. Hit me budgeting festival trips over new guitar gear... priorities shift! Rent disaster—finally managed solo flat hunt! Honestly thought 'adulting' would come with some epic milestone... ended up being those moments staring at bills thinking \"So uh, how does anyone sort these?\" Lol adulthood = guessing game 😀 Growing your own stuff sounds cool until you realize how long some herbs take just for one garnish! DIY jam sessions - bring instruments together for improvisational fun! 🎶 Hit up some open mic nights—surprisingly dope and gratis! Totally dig growing your own veggies but nothing beats hitting up small venue gigs! It's cheap-slash-free sometimes; you're riding those soundwaves like nowhere else — plus supportin' locals rocks too! Critics aren't just all grumpy faultfinders hiding behind screens! Dig deeper folks – we jam at concerts too, sometimes even headbanging alongside y’all! But please stop asking if we 'hate everything' - chill vibes like everybody else... when not reviewing anyway. Music critics ain’t all highbrows sniffin' out only opera and jazz! Some def jam out to whatever beats drop on Spotify’s top 100 too 😂 got playlists mixed like pierogi fillings over here! Late show reviews kill date nights sometimes! so true that finding balance is key! In between the reviews and gigs, catch me humming tunes at odd hours – headphone wire becomes a bedroom tripping hazard real quick lol Bro barista once handed me decaf cause he thought metal fans need less hype 😂 Even folks doing historical research get tagged old-school! 🤷‍♂️ Society's timeline? More disco than march – fluid moves! Relationships ain't just duets - takes jamming & improvising together! Love’s like vinyl - grooves deeper over years\"},     \"Random Sentence Insertion\":{\"Noisy text\": \"Totally get it – affordability shapes where we vibe best. Cafes become our makeshift jam spaces when rent hits those high notes! Memories are cool but let's not forget - rent ain't cheap! Sure networks can spice life up, but swapping them like playlists? Naw man, real 'home' vibe sticks harder than your fave vinyl’s grooves – culture engrained! Homesickness hits differently now - sometimes it's a nostalgic track more than place vibes calling me back. Ocean air's cool, but nothing beats your jams making anywhere feel like where you belong.  Also primo spots for open-air concerts! Some parks are nice but let's get real – some barely have two trees to rub together. Ever tried chilling next door to where they forgot grass exists? More like concrete jungle gym... Parks? More like noisy family BBQ battlegrounds lately... That’s wild! Over here we’ve got murals where local bands leave QR codes for exclusive tracks - street art meets underground tunes; always cool finding new jams! Chess club's chill but real talk - underground live music spots redefine 'hidden gems'. Hit me budgeting festival trips over new guitar gear... priorities shift! Rent disaster—finally managed solo flat hunt! Honestly thought 'adulting' would come with some epic milestone... ended up being those moments staring at bills thinking \"So uh, how does anyone sort these?\" Lol adulthood = guessing game 😀 Growing your own stuff sounds cool until you realize how long some herbs take just for one garnish! DIY jam sessions - bring instruments together for improvisational fun! 🎶 Hit up some open mic nights—surprisingly dope and gratis! Totally dig growing your own veggies but nothing beats hitting up small venue gigs! It's cheap-slash-free sometimes; you're riding those soundwaves like nowhere else — plus supportin' locals rocks too! Critics aren't just all grumpy faultfinders hiding behind screens! Dig deeper folks – we jam at concerts too, sometimes even headbanging alongside y’all! But please stop asking if we 'hate everything' - chill vibes like everybody else... when not reviewing anyway. Music critics ain’t all highbrows sniffin' out only opera and jazz! Some def jam out to whatever beats drop on Spotify’s top 100 too 😂 got playlists mixed like pierogi fillings over here! Late show reviews kill date nights sometimes! so true that finding balance is key! In between the reviews and gigs, catch me humming tunes at odd hours – headphone wire becomes a bedroom tripping hazard real quick lol Bro barista once handed me decaf cause he thought metal fans need less hype 😂 Even folks doing historical research get tagged old-school! 🤷‍♂️ Society's timeline? More disco than march – fluid moves! Relationships ain't just duets - takes jamming & improvising together! Love’s like vinyl - grooves deeper over years. The rain in Spain falls mainly on the plain. This is a random sentence that doesn't fit the context.\"}}\n",
      "Extracted JSON objects saved to cleaned_results.json.\n"
     ]
    }
   ],
   "source": [
    "import json\n",
    "import re\n",
    "\n",
    "input_file_path = \"google_api_results1.json\" \n",
    "output_file_path = \"cleaned_results.json\" \n",
    "\n",
    "with open(input_file_path, \"r\", encoding=\"utf-8\") as infile:\n",
    "    data = json.load(infile)\n",
    "\n",
    "extracted_json_objects = []\n",
    "\n",
    "\n",
    "def clean_json_string(text):\n",
    "    cleaned_text = text.replace(\"\\n\", \" \").strip()\n",
    "    cleaned_text = re.sub(r\"\\s*([\\[\\{\\]\\}])\\s*\", r\"\\1\", cleaned_text)\n",
    "    cleaned_text = re.sub(r\"\\\"{2,}\", '\"', cleaned_text)\n",
    "    cleaned_text = re.sub(r\",\\s*([}\\]])\", r\"\\1\", cleaned_text)\n",
    "    cleaned_text = re.sub(r\"([\\\"\\}])\\s*([\\\"\\{])\", r\"\\1,\\2\", cleaned_text)\n",
    "    return cleaned_text\n",
    "\n",
    "for item in data:\n",
    "    if \"candidates\" in item and item[\"candidates\"]:\n",
    "        candidate = item[\"candidates\"][0]\n",
    "        if (\n",
    "            \"content\" in candidate\n",
    "            and \"parts\" in candidate[\"content\"]\n",
    "            and candidate[\"content\"][\"parts\"]\n",
    "        ):\n",
    "            text_content = candidate[\"content\"][\"parts\"][0][\"text\"]\n",
    "\n",
    "            cleaned_text = clean_json_string(text_content)\n",
    "            try:\n",
    "                json_object = json.loads(cleaned_text)\n",
    "                extracted_json_objects.append(json_object)\n",
    "            except json.JSONDecodeError as e:\n",
    "                print(\n",
    "                    f\"Error decoding JSON: {e} for cleaned content: {cleaned_text[:200]}...\"\n",
    "                print(\"Full cleaned content:\", cleaned_text)\n",
    "with open(output_file_path, \"w\", encoding=\"utf-8\") as outfile:\n",
    "    json.dump(extracted_json_objects, outfile, ensure_ascii=False, indent=4)\n",
    "\n",
    "print(f\"Extracted JSON objects saved to {output_file_path}.\")"
   ]
  },
  {
   "cell_type": "code",
   "execution_count": null,
   "metadata": {},
   "outputs": [],
   "source": []
  }
 ],
 "metadata": {
  "kernelspec": {
   "display_name": "mynewenv",
   "language": "python",
   "name": "python3"
  },
  "language_info": {
   "codemirror_mode": {
    "name": "ipython",
    "version": 3
   },
   "file_extension": ".py",
   "mimetype": "text/x-python",
   "name": "python",
   "nbconvert_exporter": "python",
   "pygments_lexer": "ipython3",
   "version": "3.11.10"
  }
 },
 "nbformat": 4,
 "nbformat_minor": 2
}
