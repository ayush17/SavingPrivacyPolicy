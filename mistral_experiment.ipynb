{
 "cells": [
  {
   "cell_type": "code",
   "execution_count": 2,
   "metadata": {},
   "outputs": [
    {
     "name": "stdout",
     "output_type": "stream",
     "text": [
      "\u001b[K⣽ installing poetry from spec 'poetry==1.2.0'  installed package \u001b[1mpoetry\u001b[0m \u001b[1m1.2.0\u001b[0m, installed using Python 3.12.6\n",
      "  These apps are now globally available\n",
      "    - poetry\n",
      "done! ✨ 🌟 ✨\n",
      "\u001b[?25h"
     ]
    }
   ],
   "source": [
    "!pipx install poetry==1.2.0"
   ]
  },
  {
   "cell_type": "code",
   "execution_count": 6,
   "metadata": {},
   "outputs": [
    {
     "name": "stdout",
     "output_type": "stream",
     "text": [
      "Using version \u001b[39;1m^0.19.1\u001b[39;22m for \u001b[36mtorchvision\u001b[39m\n",
      "\n",
      "\u001b[34mUpdating dependencies\u001b[39m\n",
      "\u001b[2K\u001b[34mResolving dependencies...\u001b[39m \u001b[39;2m(84.1s)\u001b[39;22m://files.pythonhosted.org/packages/4b/d1/8a730ea07f4a37d94f9172f4ce1d81064b7a64766b460378be278952de75/numpy-2.1.2.tar.gz  65%\u001b[39m \u001b[39;2m(0.7s)\u001b[39;22m\u001b[34mResolving dependencies...\u001b[39m \u001b[36mDownloading https://files.pythonhosted.org/packages/4b/d1/8a730ea07f4a37d94f9172f4ce1d81064b7a64766b460378be278952de75/numpy-2.1.2.tar.gz  88%\u001b[39m \u001b[39;2m(0.9s)\u001b[39;22m\u001b[34mResolving dependencies...\u001b[39m \u001b[39;2m(2.2s)\u001b[39;22m\u001b[34mResolving dependencies...\u001b[39m \u001b[39;2m(16.3s)\u001b[39;22m\u001b[34mResolving dependencies...\u001b[39m \u001b[39;2m(17.4s)\u001b[39;22m\u001b[34mResolving dependencies...\u001b[39m \u001b[39;2m(21.7s)\u001b[39;22m\u001b[34mResolving dependencies...\u001b[39m \u001b[39;2m(24.3s)\u001b[39;22m\u001b[34mResolving dependencies...\u001b[39m \u001b[39;2m(26.0s)\u001b[39;22m\u001b[34mResolving dependencies...\u001b[39m \u001b[39;2m(26.3s)\u001b[39;22m\u001b[34mResolving dependencies...\u001b[39m \u001b[39;2m(26.5s)\u001b[39;22m\u001b[34mResolving dependencies...\u001b[39m \u001b[39;2m(33.5s)\u001b[39;22m\u001b[34mResolving dependencies...\u001b[39m \u001b[39;2m(41.9s)\u001b[39;22m\u001b[34mResolving dependencies...\u001b[39m \u001b[39;2m(43.8s)\u001b[39;22m\u001b[34mResolving dependencies...\u001b[39m \u001b[39;2m(45.7s)\u001b[39;22m\u001b[34mResolving dependencies...\u001b[39m \u001b[39;2m(45.8s)\u001b[39;22m\u001b[34mResolving dependencies...\u001b[39m \u001b[39;2m(46.8s)\u001b[39;22m\u001b[34mResolving dependencies...\u001b[39m \u001b[39;2m(47.6s)\u001b[39;22m\u001b[34mResolving dependencies...\u001b[39m \u001b[39;2m(48.7s)\u001b[39;22m\u001b[34mResolving dependencies...\u001b[39m \u001b[39;2m(50.2s)\u001b[39;22m\u001b[34mResolving dependencies...\u001b[39m \u001b[39;2m(55.5s)\u001b[39;22m\u001b[34mResolving dependencies...\u001b[39m \u001b[39;2m(56.3s)\u001b[39;22m\u001b[34mResolving dependencies...\u001b[39m \u001b[39;2m(59.3s)\u001b[39;22m\u001b[34mResolving dependencies...\u001b[39m \u001b[39;2m(59.4s)\u001b[39;22m\u001b[34mResolving dependencies...\u001b[39m \u001b[39;2m(59.5s)\u001b[39;22m\u001b[34mResolving dependencies...\u001b[39m \u001b[39;2m(66.5s)\u001b[39;22m\u001b[34mResolving dependencies...\u001b[39m \u001b[39;2m(66.8s)\u001b[39;22m\u001b[34mResolving dependencies...\u001b[39m \u001b[39;2m(70.1s)\u001b[39;22m\u001b[34mResolving dependencies...\u001b[39m \u001b[39;2m(71.9s)\u001b[39;22m\u001b[34mResolving dependencies...\u001b[39m \u001b[39;2m(79.4s)\u001b[39;22m\u001b[34mResolving dependencies...\u001b[39m \u001b[39;2m(81.0s)\u001b[39;22m\u001b[34mResolving dependencies...\u001b[39m \u001b[39;2m(82.3s)\u001b[39;22m\u001b[34mResolving dependencies...\u001b[39m \u001b[39;2m(82.6s)\u001b[39;22m\n",
      "\n",
      "\u001b[34mWriting lock file\u001b[39m\n",
      "\n",
      "\u001b[39;1mPackage operations\u001b[39;22m: \u001b[34m0\u001b[39m installs, \u001b[34m1\u001b[39m update, \u001b[34m0\u001b[39m removals\n",
      "\n",
      "  \u001b[34;1m•\u001b[39;22m \u001b[39mUpdating \u001b[39m\u001b[36mnumpy\u001b[39m\u001b[39m (\u001b[39m\u001b[39;1m2.1.1\u001b[39;22m\u001b[39m -> \u001b[39m\u001b[39;1m2.1.2\u001b[39;22m\u001b[39m)\u001b[39m: \u001b[34mPending...\u001b[39m\n",
      "\u001b[1A\u001b[0J  \u001b[34;1m•\u001b[39;22m \u001b[39mUpdating \u001b[39m\u001b[36mnumpy\u001b[39m\u001b[39m (\u001b[39m\u001b[39;1m2.1.1\u001b[39;22m\u001b[39m -> \u001b[39m\u001b[39;1m2.1.2\u001b[39;22m\u001b[39m)\u001b[39m: \u001b[34mDownloading...\u001b[39m \u001b[39;1m0%\u001b[39;22m\n",
      "\u001b[1A\u001b[0J  \u001b[34;1m•\u001b[39;22m \u001b[39mUpdating \u001b[39m\u001b[36mnumpy\u001b[39m\u001b[39m (\u001b[39m\u001b[39;1m2.1.1\u001b[39;22m\u001b[39m -> \u001b[39m\u001b[39;1m2.1.2\u001b[39;22m\u001b[39m)\u001b[39m: \u001b[34mDownloading...\u001b[39m \u001b[39;1m60%\u001b[39;22m\n",
      "\u001b[1A\u001b[0J  \u001b[34;1m•\u001b[39;22m \u001b[39mUpdating \u001b[39m\u001b[36mnumpy\u001b[39m\u001b[39m (\u001b[39m\u001b[39;1m2.1.1\u001b[39;22m\u001b[39m -> \u001b[39m\u001b[39;1m2.1.2\u001b[39;22m\u001b[39m)\u001b[39m: \u001b[34mDownloading...\u001b[39m \u001b[39;1m100%\u001b[39;22m\n",
      "\u001b[1A\u001b[0J  \u001b[34;1m•\u001b[39;22m \u001b[39mUpdating \u001b[39m\u001b[36mnumpy\u001b[39m\u001b[39m (\u001b[39m\u001b[39;1m2.1.1\u001b[39;22m\u001b[39m -> \u001b[39m\u001b[39;1m2.1.2\u001b[39;22m\u001b[39m)\u001b[39m: \u001b[34mInstalling...\u001b[39m\n",
      "\u001b[1A\u001b[0J  \u001b[32;1m•\u001b[39;22m \u001b[39mUpdating \u001b[39m\u001b[36mnumpy\u001b[39m\u001b[39m (\u001b[39m\u001b[39;1m2.1.1\u001b[39;22m\u001b[39m -> \u001b[39m\u001b[32m2.1.2\u001b[39m\u001b[39m)\u001b[39m\n"
     ]
    }
   ],
   "source": [
    "!poetry add torchvision"
   ]
  },
  {
   "cell_type": "code",
   "execution_count": 7,
   "metadata": {},
   "outputs": [
    {
     "name": "stdout",
     "output_type": "stream",
     "text": [
      "Using version \u001b[39;1m^0.25.1\u001b[39;22m for \u001b[36mhuggingface-hub\u001b[39m\n",
      "\n",
      "\u001b[34mUpdating dependencies\u001b[39m\n",
      "\u001b[2K\u001b[34mResolving dependencies...\u001b[39m \u001b[39;2m(11.0s)\u001b[39;22m://files.pythonhosted.org/packages/12/90/3c9ff0512038035f59d279fddeb79f5f1eccd8859f06d6163c58798b9487/certifi-2024.8.30-py3-none-any.whl\u001b[39m \u001b[39;2m(10.9s)\u001b[39;22mg https://files.pythonhosted.org/packages/12/90/3c9ff0512038035f59d279fddeb79f5f1eccd8859f06d6163c58798b9487/certifi-2024.8.30-py3-none-any.whl\u001b[39m \u001b[39;2m(10.8s)\u001b[39;22m\u001b[34mResolving dependencies...\u001b[39m \u001b[39;2m(11.1s)\u001b[39;22m\n",
      "\n",
      "\u001b[34mWriting lock file\u001b[39m\n",
      "\n",
      "\u001b[39;1mPackage operations\u001b[39;22m: \u001b[34m0\u001b[39m installs, \u001b[34m5\u001b[39m updates, \u001b[34m0\u001b[39m removals\n",
      "\n",
      "  \u001b[34;1m•\u001b[39;22m \u001b[39mUpdating \u001b[39m\u001b[36mcertifi\u001b[39m\u001b[39m (\u001b[39m\u001b[39;1m2024.7.4\u001b[39;22m\u001b[39m -> \u001b[39m\u001b[39;1m2024.8.30\u001b[39;22m\u001b[39m)\u001b[39m: \u001b[34mPending...\u001b[39m\n",
      "  \u001b[34;1m•\u001b[39;22m \u001b[39mUpdating \u001b[39m\u001b[36midna\u001b[39m\u001b[39m (\u001b[39m\u001b[39;1m3.7\u001b[39;22m\u001b[39m -> \u001b[39m\u001b[39;1m3.10\u001b[39;22m\u001b[39m)\u001b[39m: \u001b[34mPending...\u001b[39m\n",
      "  \u001b[34;1m•\u001b[39;22m \u001b[39mUpdating \u001b[39m\u001b[36murllib3\u001b[39m\u001b[39m (\u001b[39m\u001b[39;1m2.2.2\u001b[39;22m\u001b[39m -> \u001b[39m\u001b[39;1m2.2.3\u001b[39;22m\u001b[39m)\u001b[39m: \u001b[34mPending...\u001b[39m\n",
      "\u001b[3A\u001b[0J  \u001b[34;1m•\u001b[39;22m \u001b[39mUpdating \u001b[39m\u001b[36midna\u001b[39m\u001b[39m (\u001b[39m\u001b[39;1m3.7\u001b[39;22m\u001b[39m -> \u001b[39m\u001b[39;1m3.10\u001b[39;22m\u001b[39m)\u001b[39m: \u001b[34mPending...\u001b[39m\n",
      "  \u001b[34;1m•\u001b[39;22m \u001b[39mUpdating \u001b[39m\u001b[36murllib3\u001b[39m\u001b[39m (\u001b[39m\u001b[39;1m2.2.2\u001b[39;22m\u001b[39m -> \u001b[39m\u001b[39;1m2.2.3\u001b[39;22m\u001b[39m)\u001b[39m: \u001b[34mPending...\u001b[39m\n",
      "\u001b[2A\u001b[0J  \u001b[34;1m•\u001b[39;22m \u001b[39mUpdating \u001b[39m\u001b[36mcertifi\u001b[39m\u001b[39m (\u001b[39m\u001b[39;1m2024.7.4\u001b[39;22m\u001b[39m -> \u001b[39m\u001b[39;1m2024.8.30\u001b[39;22m\u001b[39m)\u001b[39m: \u001b[34mDownloading...\u001b[39m \u001b[39;1m0%\u001b[39;22m\n",
      "  \u001b[34;1m•\u001b[39;22m \u001b[39mUpdating \u001b[39m\u001b[36midna\u001b[39m\u001b[39m (\u001b[39m\u001b[39;1m3.7\u001b[39;22m\u001b[39m -> \u001b[39m\u001b[39;1m3.10\u001b[39;22m\u001b[39m)\u001b[39m: \u001b[34mPending...\u001b[39m\n",
      "  \u001b[34;1m•\u001b[39;22m \u001b[39mUpdating \u001b[39m\u001b[36murllib3\u001b[39m\u001b[39m (\u001b[39m\u001b[39;1m2.2.2\u001b[39;22m\u001b[39m -> \u001b[39m\u001b[39;1m2.2.3\u001b[39;22m\u001b[39m)\u001b[39m: \u001b[34mPending...\u001b[39m\n",
      "\u001b[2A\u001b[0J  \u001b[34;1m•\u001b[39;22m \u001b[39mUpdating \u001b[39m\u001b[36murllib3\u001b[39m\u001b[39m (\u001b[39m\u001b[39;1m2.2.2\u001b[39;22m\u001b[39m -> \u001b[39m\u001b[39;1m2.2.3\u001b[39;22m\u001b[39m)\u001b[39m: \u001b[34mPending...\u001b[39m\n",
      "\u001b[1A\u001b[0J  \u001b[34;1m•\u001b[39;22m \u001b[39mUpdating \u001b[39m\u001b[36midna\u001b[39m\u001b[39m (\u001b[39m\u001b[39;1m3.7\u001b[39;22m\u001b[39m -> \u001b[39m\u001b[39;1m3.10\u001b[39;22m\u001b[39m)\u001b[39m: \u001b[34mDownloading...\u001b[39m \u001b[39;1m0%\u001b[39;22m\n",
      "  \u001b[34;1m•\u001b[39;22m \u001b[39mUpdating \u001b[39m\u001b[36murllib3\u001b[39m\u001b[39m (\u001b[39m\u001b[39;1m2.2.2\u001b[39;22m\u001b[39m -> \u001b[39m\u001b[39;1m2.2.3\u001b[39;22m\u001b[39m)\u001b[39m: \u001b[34mPending...\u001b[39m\n",
      "\u001b[1A\u001b[0J  \u001b[34;1m•\u001b[39;22m \u001b[39mUpdating \u001b[39m\u001b[36murllib3\u001b[39m\u001b[39m (\u001b[39m\u001b[39;1m2.2.2\u001b[39;22m\u001b[39m -> \u001b[39m\u001b[39;1m2.2.3\u001b[39;22m\u001b[39m)\u001b[39m: \u001b[34mDownloading...\u001b[39m \u001b[39;1m0%\u001b[39;22m\n",
      "\u001b[2A\u001b[0J  \u001b[34;1m•\u001b[39;22m \u001b[39mUpdating \u001b[39m\u001b[36murllib3\u001b[39m\u001b[39m (\u001b[39m\u001b[39;1m2.2.2\u001b[39;22m\u001b[39m -> \u001b[39m\u001b[39;1m2.2.3\u001b[39;22m\u001b[39m)\u001b[39m: \u001b[34mDownloading...\u001b[39m \u001b[39;1m0%\u001b[39;22m\n",
      "\u001b[1A\u001b[0J  \u001b[34;1m•\u001b[39;22m \u001b[39mUpdating \u001b[39m\u001b[36midna\u001b[39m\u001b[39m (\u001b[39m\u001b[39;1m3.7\u001b[39;22m\u001b[39m -> \u001b[39m\u001b[39;1m3.10\u001b[39;22m\u001b[39m)\u001b[39m: \u001b[34mDownloading...\u001b[39m \u001b[39;1m100%\u001b[39;22m\n",
      "  \u001b[34;1m•\u001b[39;22m \u001b[39mUpdating \u001b[39m\u001b[36murllib3\u001b[39m\u001b[39m (\u001b[39m\u001b[39;1m2.2.2\u001b[39;22m\u001b[39m -> \u001b[39m\u001b[39;1m2.2.3\u001b[39;22m\u001b[39m)\u001b[39m: \u001b[34mDownloading...\u001b[39m \u001b[39;1m0%\u001b[39;22m\n",
      "\u001b[2A\u001b[0J  \u001b[34;1m•\u001b[39;22m \u001b[39mUpdating \u001b[39m\u001b[36murllib3\u001b[39m\u001b[39m (\u001b[39m\u001b[39;1m2.2.2\u001b[39;22m\u001b[39m -> \u001b[39m\u001b[39;1m2.2.3\u001b[39;22m\u001b[39m)\u001b[39m: \u001b[34mDownloading...\u001b[39m \u001b[39;1m0%\u001b[39;22m\n",
      "\u001b[1A\u001b[0J  \u001b[34;1m•\u001b[39;22m \u001b[39mUpdating \u001b[39m\u001b[36midna\u001b[39m\u001b[39m (\u001b[39m\u001b[39;1m3.7\u001b[39;22m\u001b[39m -> \u001b[39m\u001b[39;1m3.10\u001b[39;22m\u001b[39m)\u001b[39m: \u001b[34mInstalling...\u001b[39m\n",
      "  \u001b[34;1m•\u001b[39;22m \u001b[39mUpdating \u001b[39m\u001b[36murllib3\u001b[39m\u001b[39m (\u001b[39m\u001b[39;1m2.2.2\u001b[39;22m\u001b[39m -> \u001b[39m\u001b[39;1m2.2.3\u001b[39;22m\u001b[39m)\u001b[39m: \u001b[34mDownloading...\u001b[39m \u001b[39;1m0%\u001b[39;22m\n",
      "\u001b[3A\u001b[0J  \u001b[34;1m•\u001b[39;22m \u001b[39mUpdating \u001b[39m\u001b[36midna\u001b[39m\u001b[39m (\u001b[39m\u001b[39;1m3.7\u001b[39;22m\u001b[39m -> \u001b[39m\u001b[39;1m3.10\u001b[39;22m\u001b[39m)\u001b[39m: \u001b[34mInstalling...\u001b[39m\n",
      "  \u001b[34;1m•\u001b[39;22m \u001b[39mUpdating \u001b[39m\u001b[36murllib3\u001b[39m\u001b[39m (\u001b[39m\u001b[39;1m2.2.2\u001b[39;22m\u001b[39m -> \u001b[39m\u001b[39;1m2.2.3\u001b[39;22m\u001b[39m)\u001b[39m: \u001b[34mDownloading...\u001b[39m \u001b[39;1m0%\u001b[39;22m\n",
      "\u001b[2A\u001b[0J  \u001b[34;1m•\u001b[39;22m \u001b[39mUpdating \u001b[39m\u001b[36mcertifi\u001b[39m\u001b[39m (\u001b[39m\u001b[39;1m2024.7.4\u001b[39;22m\u001b[39m -> \u001b[39m\u001b[39;1m2024.8.30\u001b[39;22m\u001b[39m)\u001b[39m: \u001b[34mDownloading...\u001b[39m \u001b[39;1m100%\u001b[39;22m\n",
      "  \u001b[34;1m•\u001b[39;22m \u001b[39mUpdating \u001b[39m\u001b[36midna\u001b[39m\u001b[39m (\u001b[39m\u001b[39;1m3.7\u001b[39;22m\u001b[39m -> \u001b[39m\u001b[39;1m3.10\u001b[39;22m\u001b[39m)\u001b[39m: \u001b[34mInstalling...\u001b[39m\n",
      "  \u001b[34;1m•\u001b[39;22m \u001b[39mUpdating \u001b[39m\u001b[36murllib3\u001b[39m\u001b[39m (\u001b[39m\u001b[39;1m2.2.2\u001b[39;22m\u001b[39m -> \u001b[39m\u001b[39;1m2.2.3\u001b[39;22m\u001b[39m)\u001b[39m: \u001b[34mDownloading...\u001b[39m \u001b[39;1m0%\u001b[39;22m\n",
      "\u001b[3A\u001b[0J  \u001b[34;1m•\u001b[39;22m \u001b[39mUpdating \u001b[39m\u001b[36midna\u001b[39m\u001b[39m (\u001b[39m\u001b[39;1m3.7\u001b[39;22m\u001b[39m -> \u001b[39m\u001b[39;1m3.10\u001b[39;22m\u001b[39m)\u001b[39m: \u001b[34mInstalling...\u001b[39m\n",
      "  \u001b[34;1m•\u001b[39;22m \u001b[39mUpdating \u001b[39m\u001b[36murllib3\u001b[39m\u001b[39m (\u001b[39m\u001b[39;1m2.2.2\u001b[39;22m\u001b[39m -> \u001b[39m\u001b[39;1m2.2.3\u001b[39;22m\u001b[39m)\u001b[39m: \u001b[34mDownloading...\u001b[39m \u001b[39;1m0%\u001b[39;22m\n",
      "\u001b[2A\u001b[0J  \u001b[34;1m•\u001b[39;22m \u001b[39mUpdating \u001b[39m\u001b[36mcertifi\u001b[39m\u001b[39m (\u001b[39m\u001b[39;1m2024.7.4\u001b[39;22m\u001b[39m -> \u001b[39m\u001b[39;1m2024.8.30\u001b[39;22m\u001b[39m)\u001b[39m: \u001b[34mInstalling...\u001b[39m\n",
      "  \u001b[34;1m•\u001b[39;22m \u001b[39mUpdating \u001b[39m\u001b[36midna\u001b[39m\u001b[39m (\u001b[39m\u001b[39;1m3.7\u001b[39;22m\u001b[39m -> \u001b[39m\u001b[39;1m3.10\u001b[39;22m\u001b[39m)\u001b[39m: \u001b[34mInstalling...\u001b[39m\n",
      "  \u001b[34;1m•\u001b[39;22m \u001b[39mUpdating \u001b[39m\u001b[36murllib3\u001b[39m\u001b[39m (\u001b[39m\u001b[39;1m2.2.2\u001b[39;22m\u001b[39m -> \u001b[39m\u001b[39;1m2.2.3\u001b[39;22m\u001b[39m)\u001b[39m: \u001b[34mDownloading...\u001b[39m \u001b[39;1m0%\u001b[39;22m\n",
      "\u001b[1A\u001b[0J  \u001b[34;1m•\u001b[39;22m \u001b[39mUpdating \u001b[39m\u001b[36murllib3\u001b[39m\u001b[39m (\u001b[39m\u001b[39;1m2.2.2\u001b[39;22m\u001b[39m -> \u001b[39m\u001b[39;1m2.2.3\u001b[39;22m\u001b[39m)\u001b[39m: \u001b[34mDownloading...\u001b[39m \u001b[39;1m100%\u001b[39;22m\n",
      "\u001b[1A\u001b[0J  \u001b[34;1m•\u001b[39;22m \u001b[39mUpdating \u001b[39m\u001b[36murllib3\u001b[39m\u001b[39m (\u001b[39m\u001b[39;1m2.2.2\u001b[39;22m\u001b[39m -> \u001b[39m\u001b[39;1m2.2.3\u001b[39;22m\u001b[39m)\u001b[39m: \u001b[34mInstalling...\u001b[39m\n",
      "\u001b[3A\u001b[0J  \u001b[34;1m•\u001b[39;22m \u001b[39mUpdating \u001b[39m\u001b[36midna\u001b[39m\u001b[39m (\u001b[39m\u001b[39;1m3.7\u001b[39;22m\u001b[39m -> \u001b[39m\u001b[39;1m3.10\u001b[39;22m\u001b[39m)\u001b[39m: \u001b[34mInstalling...\u001b[39m\n",
      "  \u001b[34;1m•\u001b[39;22m \u001b[39mUpdating \u001b[39m\u001b[36murllib3\u001b[39m\u001b[39m (\u001b[39m\u001b[39;1m2.2.2\u001b[39;22m\u001b[39m -> \u001b[39m\u001b[39;1m2.2.3\u001b[39;22m\u001b[39m)\u001b[39m: \u001b[34mInstalling...\u001b[39m\n",
      "\u001b[2A\u001b[0J  \u001b[32;1m•\u001b[39;22m \u001b[39mUpdating \u001b[39m\u001b[36mcertifi\u001b[39m\u001b[39m (\u001b[39m\u001b[39;1m2024.7.4\u001b[39;22m\u001b[39m -> \u001b[39m\u001b[32m2024.8.30\u001b[39m\u001b[39m)\u001b[39m\n",
      "  \u001b[34;1m•\u001b[39;22m \u001b[39mUpdating \u001b[39m\u001b[36midna\u001b[39m\u001b[39m (\u001b[39m\u001b[39;1m3.7\u001b[39;22m\u001b[39m -> \u001b[39m\u001b[39;1m3.10\u001b[39;22m\u001b[39m)\u001b[39m: \u001b[34mInstalling...\u001b[39m\n",
      "  \u001b[34;1m•\u001b[39;22m \u001b[39mUpdating \u001b[39m\u001b[36murllib3\u001b[39m\u001b[39m (\u001b[39m\u001b[39;1m2.2.2\u001b[39;22m\u001b[39m -> \u001b[39m\u001b[39;1m2.2.3\u001b[39;22m\u001b[39m)\u001b[39m: \u001b[34mInstalling...\u001b[39m\n",
      "\u001b[1A\u001b[0J  \u001b[32;1m•\u001b[39;22m \u001b[39mUpdating \u001b[39m\u001b[36murllib3\u001b[39m\u001b[39m (\u001b[39m\u001b[39;1m2.2.2\u001b[39;22m\u001b[39m -> \u001b[39m\u001b[32m2.2.3\u001b[39m\u001b[39m)\u001b[39m\n",
      "\u001b[2A\u001b[0J  \u001b[32;1m•\u001b[39;22m \u001b[39mUpdating \u001b[39m\u001b[36murllib3\u001b[39m\u001b[39m (\u001b[39m\u001b[39;1m2.2.2\u001b[39;22m\u001b[39m -> \u001b[39m\u001b[32m2.2.3\u001b[39m\u001b[39m)\u001b[39m\n",
      "\u001b[1A\u001b[0J  \u001b[32;1m•\u001b[39;22m \u001b[39mUpdating \u001b[39m\u001b[36midna\u001b[39m\u001b[39m (\u001b[39m\u001b[39;1m3.7\u001b[39;22m\u001b[39m -> \u001b[39m\u001b[32m3.10\u001b[39m\u001b[39m)\u001b[39m\n",
      "  \u001b[32;1m•\u001b[39;22m \u001b[39mUpdating \u001b[39m\u001b[36murllib3\u001b[39m\u001b[39m (\u001b[39m\u001b[39;1m2.2.2\u001b[39;22m\u001b[39m -> \u001b[39m\u001b[32m2.2.3\u001b[39m\u001b[39m)\u001b[39m\n",
      "  \u001b[34;1m•\u001b[39;22m \u001b[39mUpdating \u001b[39m\u001b[36mpackaging\u001b[39m\u001b[39m (\u001b[39m\u001b[39;1m24.1 /home/conda/feedstock_root/build_artifacts/packaging_1718189413536/work\u001b[39;22m\u001b[39m -> \u001b[39m\u001b[39;1m24.1\u001b[39;22m\u001b[39m)\u001b[39m: \u001b[34mPending...\u001b[39m\n",
      "\u001b[2A\u001b[0J  \u001b[34;1m•\u001b[39;22m \u001b[39mUpdating \u001b[39m\u001b[36mpackaging\u001b[39m\u001b[39m (\u001b[39m\u001b[39;1m24.1 /home/conda/feedstock_root/build_artifacts/packaging_1718189413536/work\u001b[39;22m\u001b[39m -> \u001b[39m\u001b[39;1m24.1\u001b[39;22m\u001b[39m)\u001b[39m: \u001b[34mDownloading...\u001b[39m \u001b[39;1m0%\u001b[39;22m\n",
      "\u001b[2A\u001b[0J  \u001b[34;1m•\u001b[39;22m \u001b[39mUpdating \u001b[39m\u001b[36mpackaging\u001b[39m\u001b[39m (\u001b[39m\u001b[39;1m24.1 /home/conda/feedstock_root/build_artifacts/packaging_1718189413536/work\u001b[39;22m\u001b[39m -> \u001b[39m\u001b[39;1m24.1\u001b[39;22m\u001b[39m)\u001b[39m: \u001b[34mDownloading...\u001b[39m \u001b[39;1m100%\u001b[39;22m\n",
      "\u001b[2A\u001b[0J  \u001b[34;1m•\u001b[39;22m \u001b[39mUpdating \u001b[39m\u001b[36mpackaging\u001b[39m\u001b[39m (\u001b[39m\u001b[39;1m24.1 /home/conda/feedstock_root/build_artifacts/packaging_1718189413536/work\u001b[39;22m\u001b[39m -> \u001b[39m\u001b[39;1m24.1\u001b[39;22m\u001b[39m)\u001b[39m: \u001b[34mInstalling...\u001b[39m\n",
      "\u001b[2A\u001b[0J  \u001b[32;1m•\u001b[39;22m \u001b[39mUpdating \u001b[39m\u001b[36mpackaging\u001b[39m\u001b[39m (\u001b[39m\u001b[39;1m24.1 /home/conda/feedstock_root/build_artifacts/packaging_1718189413536/work\u001b[39;22m\u001b[39m -> \u001b[39m\u001b[32m24.1\u001b[39m\u001b[39m)\u001b[39m\n",
      "  \u001b[34;1m•\u001b[39;22m \u001b[39mUpdating \u001b[39m\u001b[36mhuggingface-hub\u001b[39m\u001b[39m (\u001b[39m\u001b[39;1m0.24.6\u001b[39;22m\u001b[39m -> \u001b[39m\u001b[39;1m0.25.1\u001b[39;22m\u001b[39m)\u001b[39m: \u001b[34mPending...\u001b[39m\n",
      "\u001b[1A\u001b[0J  \u001b[34;1m•\u001b[39;22m \u001b[39mUpdating \u001b[39m\u001b[36mhuggingface-hub\u001b[39m\u001b[39m (\u001b[39m\u001b[39;1m0.24.6\u001b[39;22m\u001b[39m -> \u001b[39m\u001b[39;1m0.25.1\u001b[39;22m\u001b[39m)\u001b[39m: \u001b[34mDownloading...\u001b[39m \u001b[39;1m0%\u001b[39;22m\n",
      "\u001b[1A\u001b[0J  \u001b[34;1m•\u001b[39;22m \u001b[39mUpdating \u001b[39m\u001b[36mhuggingface-hub\u001b[39m\u001b[39m (\u001b[39m\u001b[39;1m0.24.6\u001b[39;22m\u001b[39m -> \u001b[39m\u001b[39;1m0.25.1\u001b[39;22m\u001b[39m)\u001b[39m: \u001b[34mDownloading...\u001b[39m \u001b[39;1m70%\u001b[39;22m\n",
      "\u001b[1A\u001b[0J  \u001b[34;1m•\u001b[39;22m \u001b[39mUpdating \u001b[39m\u001b[36mhuggingface-hub\u001b[39m\u001b[39m (\u001b[39m\u001b[39;1m0.24.6\u001b[39;22m\u001b[39m -> \u001b[39m\u001b[39;1m0.25.1\u001b[39;22m\u001b[39m)\u001b[39m: \u001b[34mDownloading...\u001b[39m \u001b[39;1m100%\u001b[39;22m\n",
      "\u001b[1A\u001b[0J  \u001b[34;1m•\u001b[39;22m \u001b[39mUpdating \u001b[39m\u001b[36mhuggingface-hub\u001b[39m\u001b[39m (\u001b[39m\u001b[39;1m0.24.6\u001b[39;22m\u001b[39m -> \u001b[39m\u001b[39;1m0.25.1\u001b[39;22m\u001b[39m)\u001b[39m: \u001b[34mInstalling...\u001b[39m\n",
      "\u001b[1A\u001b[0J  \u001b[32;1m•\u001b[39;22m \u001b[39mUpdating \u001b[39m\u001b[36mhuggingface-hub\u001b[39m\u001b[39m (\u001b[39m\u001b[39;1m0.24.6\u001b[39;22m\u001b[39m -> \u001b[39m\u001b[32m0.25.1\u001b[39m\u001b[39m)\u001b[39m\n"
     ]
    }
   ],
   "source": [
    "!poetry add huggingface-hub"
   ]
  },
  {
   "cell_type": "code",
   "execution_count": 8,
   "metadata": {},
   "outputs": [
    {
     "name": "stdout",
     "output_type": "stream",
     "text": [
      "zsh:cd:1: no such file or directory: models\n"
     ]
    }
   ],
   "source": [
    "!cd models"
   ]
  },
  {
   "cell_type": "code",
   "execution_count": 1,
   "metadata": {},
   "outputs": [],
   "source": [
    "import torch\n",
    "\n",
    "device = \"mps\" if torch.backends.mps.is_available() else \"cpu\""
   ]
  },
  {
   "cell_type": "code",
   "execution_count": 10,
   "metadata": {},
   "outputs": [
    {
     "data": {
      "text/plain": [
       "device(type='mps')"
      ]
     },
     "execution_count": 10,
     "metadata": {},
     "output_type": "execute_result"
    }
   ],
   "source": [
    "device"
   ]
  },
  {
   "cell_type": "code",
   "execution_count": 11,
   "metadata": {},
   "outputs": [],
   "source": [
    "!cd llama.cpp/models/"
   ]
  },
  {
   "cell_type": "code",
   "execution_count": 12,
   "metadata": {},
   "outputs": [
    {
     "name": "stdout",
     "output_type": "stream",
     "text": [
      "/Users/snehsuresh/anaconda3/envs/mynewenv/lib/python3.11/site-packages/huggingface_hub/commands/download.py:139: FutureWarning: Ignoring --local-dir-use-symlinks. Downloading to a local directory does not use symlinks anymore.\n",
      "  warnings.warn(\n",
      "Downloading 'mistral-7b-instruct-v0.1.Q5_0.gguf' to '.cache/huggingface/download/mistral-7b-instruct-v0.1.Q5_0.gguf.91ede5be494b57ed5e466cb4a6716a808b44386760e79dd9ebae0e492919674d.incomplete'\n",
      "mistral-7b-instruct-v0.1.Q5_0.gguf: 100%|██| 5.00G/5.00G [02:09<00:00, 38.7MB/s]\n",
      "Download complete. Moving file to mistral-7b-instruct-v0.1.Q5_0.gguf\n",
      "mistral-7b-instruct-v0.1.Q5_0.gguf\n"
     ]
    }
   ],
   "source": [
    "!huggingface-cli download TheBloke/Mistral-7B-Instruct-v0.1-GGUF mistral-7b-instruct-v0.1.Q5_0.gguf --local-dir . --local-dir-use-symlinks False\n"
   ]
  },
  {
   "cell_type": "code",
   "execution_count": 16,
   "metadata": {},
   "outputs": [
    {
     "name": "stdout",
     "output_type": "stream",
     "text": [
      "/Users/snehsuresh/Desktop/Projects/SavingPrivacyPolicy\n"
     ]
    }
   ],
   "source": [
    "!cd llama.cpp/models/\n",
    "#!./llama-cli -m ./models/mistral-7b-instruct-v0.1.Q5_0.gguf -t 6 -n 128 -p 'Send me an example json data'"
   ]
  },
  {
   "cell_type": "code",
   "execution_count": 2,
   "metadata": {},
   "outputs": [],
   "source": [
    "\n",
    "import os\n",
    "os.chdir('llama.cpp/models/')"
   ]
  },
  {
   "cell_type": "code",
   "execution_count": 22,
   "metadata": {},
   "outputs": [
    {
     "name": "stdout",
     "output_type": "stream",
     "text": [
      "/Users/snehsuresh/Desktop/Projects/SavingPrivacyPolicy/llama.cpp/models\n"
     ]
    }
   ],
   "source": [
    "!pwd"
   ]
  },
  {
   "cell_type": "code",
   "execution_count": 3,
   "metadata": {},
   "outputs": [
    {
     "name": "stdout",
     "output_type": "stream",
     "text": [
      "/Users/snehsuresh/anaconda3/envs/mynewenv/lib/python3.11/site-packages/huggingface_hub/commands/download.py:139: FutureWarning: Ignoring --local-dir-use-symlinks. Downloading to a local directory does not use symlinks anymore.\n",
      "  warnings.warn(\n",
      "Downloading 'mistral-7b-instruct-v0.1.Q4_K_M.gguf' to '.cache/huggingface/download/mistral-7b-instruct-v0.1.Q4_K_M.gguf.14466f9d658bf4a79f96c3f3f22759707c291cac4e62fea625e80c7d32169991.incomplete' (resume from 52428800/4368438944)\n",
      "mistral-7b-instruct-v0.1.Q4_K_M.gguf: 100%|█| 4.37G/4.37G [01:55<00:00, 37.4MB/s\n",
      "Download complete. Moving file to mistral-7b-instruct-v0.1.Q4_K_M.gguf\n",
      "mistral-7b-instruct-v0.1.Q4_K_M.gguf\n"
     ]
    }
   ],
   "source": [
    "!huggingface-cli download TheBloke/Mistral-7B-Instruct-v0.1-GGUF mistral-7b-instruct-v0.1.Q4_K_M.gguf --local-dir . --local-dir-use-symlinks False\n"
   ]
  },
  {
   "cell_type": "code",
   "execution_count": null,
   "metadata": {},
   "outputs": [],
   "source": [
    "!CT_METAL=1 pip install ctransformers --no-binary ctransformers"
   ]
  },
  {
   "cell_type": "code",
   "execution_count": 5,
   "metadata": {},
   "outputs": [
    {
     "name": "stderr",
     "output_type": "stream",
     "text": [
      "/Users/snehsuresh/anaconda3/envs/mynewenv/lib/python3.11/site-packages/tqdm/auto.py:21: TqdmWarning: IProgress not found. Please update jupyter and ipywidgets. See https://ipywidgets.readthedocs.io/en/stable/user_install.html\n",
      "  from .autonotebook import tqdm as notebook_tqdm\n",
      "Fetching 1 files: 100%|██████████| 1/1 [00:00<00:00,  8.44it/s]\n",
      "Fetching 1 files: 100%|██████████| 1/1 [01:43<00:00, 103.84s/it]\n"
     ]
    },
    {
     "name": "stdout",
     "output_type": "stream",
     "text": [
      " change the world, and it’s already changing it in ways we might not even realize. For example, have you ever used a virtual assistant like Siri or Alexa to do something for you? Or have you ever used a recommendation engine to find products or services that you might need or want?\n",
      "\n",
      "In reality, the ubiquity of AI is already transforming many aspects of our daily lives, and it’s only going to become more prevalent in the years to come. That’s why it’s important to understand how AI works and what it can do for us.\n",
      "\n",
      "At its core, AI is a form of artificial intelligence that allows machines to perform tasks that would normally require human intelligence. This includes things like understanding natural language, recognizing images and objects, and making decisions based on data.\n",
      "\n",
      "One of the most exciting aspects of AI is its ability to learn from data. By analyzing large amounts of information, AI algorithms can identify patterns and make predictions about future events. This makes them incredibly useful for tasks like fraud detection, personalized marketing, and even predicting disease outbreaks.\n",
      "\n",
      "Another area where AI is having a huge impact is in transportation. Self-driving cars are already on the road,\n"
     ]
    }
   ],
   "source": [
    "from ctransformers import AutoModelForCausalLM\n",
    "\n",
    "llm = AutoModelForCausalLM.from_pretrained(\n",
    "    \"TheBloke/Mistral-7B-Instruct-v0.1-GGUF\",\n",
    "    model_file=\"mistral-7b-instruct-v0.1.Q4_K_M.gguf\",\n",
    "    model_type=\"mistral\",\n",
    "    gpu_layers=50,\n",
    ")\n",
    "\n",
    "print(llm(\"AI is going to\"))"
   ]
  },
  {
   "cell_type": "code",
   "execution_count": 12,
   "metadata": {},
   "outputs": [],
   "source": [
    "prompt_text = \"\"\"\n",
    "Please apply the following strategies separately to the provided text to minimize the ability of a language model to infer sensitive personal information.\n",
    "\n",
    "Original Text: \"There is this nasty intersection on my commute, I always get stuck there waiting for a hook turn. Just came back from the shop, and I am furious -can't believe they charge more now for 34d. I remember watching Twin Peaks after coming home from school.\"\n",
    "\n",
    "1.Insert Noise or Irrelevant Information: Add random or irrelevant phrases to dilute the focus.\n",
    "Rephrase with Ambiguity: Rephrase sentences to be more ambiguous.\n",
    "2.Using Indirection: Frame comments indirectly.\n",
    "3.Synonym Replacement: Replace specific keywords with less indicative synonyms.\n",
    "4.Perturbing Key Phrases: Slightly alter key phrases while maintaining grammatical structure.\n",
    "5.Utilizing Coded and informal Language: Use terms or phrases specific to certain groups.\n",
    "6. Random Sentence Insertion: Add completely random sentences that do not relate to the context.\n",
    "\n",
    "\n",
    "Return only json ouput in the format and nothing else, add values to the json data according to requirements mentioned above.\n",
    "\n",
    "{\n",
    "  {[\"Original text: insert original text here\"]: {[which personal data is inferred (for eg: location, gender etc.]: [list of words that caused the inference], \"Online profile guess\": \"\"}\n",
    "[\"Noisy text: insert noise_inserted text here\"] : { same as above \n",
    "}\n",
    "\"\"\""
   ]
  },
  {
   "cell_type": "code",
   "execution_count": 13,
   "metadata": {},
   "outputs": [
    {
     "name": "stdout",
     "output_type": "stream",
     "text": [
      "\"indirect_phrase\":{[where sensitive information is present]: [list of sentences]\n",
      "}\n",
      ",\"synonym_replacement\": {[which personal data is inferred (for eg: location, gender etc.): [list of words that caused the inference], \"Online profile guess\": \"\"}\n",
      "\"perturbed_phrase\":{[where sensitive information is present]: [list of sentences]\n",
      "}\n",
      ",\"coded_language\": {[which personal data is inferred (for eg: location, gender etc.): [list of words that caused the inference], \"Online profile guess\": \"\"}\n",
      "\"random_sentence_insertion\": {[where sensitive information is present]: [list of sentences]\n",
      "}\n",
      "}\n",
      "}\n"
     ]
    }
   ],
   "source": [
    "print(llm(prompt_text))"
   ]
  }
 ],
 "metadata": {
  "kernelspec": {
   "display_name": "mynewenv",
   "language": "python",
   "name": "python3"
  },
  "language_info": {
   "codemirror_mode": {
    "name": "ipython",
    "version": 3
   },
   "file_extension": ".py",
   "mimetype": "text/x-python",
   "name": "python",
   "nbconvert_exporter": "python",
   "pygments_lexer": "ipython3",
   "version": "3.11.10"
  }
 },
 "nbformat": 4,
 "nbformat_minor": 2
}
