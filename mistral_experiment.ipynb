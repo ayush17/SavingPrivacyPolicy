{
 "cells": [
  {
   "cell_type": "code",
   "execution_count": 2,
   "metadata": {},
   "outputs": [
    {
     "name": "stdout",
     "output_type": "stream",
     "text": [
      "\u001b[K⣽ installing poetry from spec 'poetry==1.2.0'  installed package \u001b[1mpoetry\u001b[0m \u001b[1m1.2.0\u001b[0m, installed using Python 3.12.6\n",
      "  These apps are now globally available\n",
      "    - poetry\n",
      "done! ✨ 🌟 ✨\n",
      "\u001b[?25h"
     ]
    }
   ],
   "source": [
    "!pipx install poetry==1.2.0"
   ]
  },
  {
   "cell_type": "code",
   "execution_count": 6,
   "metadata": {},
   "outputs": [
    {
     "name": "stdout",
     "output_type": "stream",
     "text": [
      "Using version \u001b[39;1m^0.19.1\u001b[39;22m for \u001b[36mtorchvision\u001b[39m\n",
      "\n",
      "\u001b[34mUpdating dependencies\u001b[39m\n",
      "\u001b[2K\u001b[34mResolving dependencies...\u001b[39m \u001b[39;2m(84.1s)\u001b[39;22m://files.pythonhosted.org/packages/4b/d1/8a730ea07f4a37d94f9172f4ce1d81064b7a64766b460378be278952de75/numpy-2.1.2.tar.gz  65%\u001b[39m \u001b[39;2m(0.7s)\u001b[39;22m\u001b[34mResolving dependencies...\u001b[39m \u001b[36mDownloading https://files.pythonhosted.org/packages/4b/d1/8a730ea07f4a37d94f9172f4ce1d81064b7a64766b460378be278952de75/numpy-2.1.2.tar.gz  88%\u001b[39m \u001b[39;2m(0.9s)\u001b[39;22m\u001b[34mResolving dependencies...\u001b[39m \u001b[39;2m(2.2s)\u001b[39;22m\u001b[34mResolving dependencies...\u001b[39m \u001b[39;2m(16.3s)\u001b[39;22m\u001b[34mResolving dependencies...\u001b[39m \u001b[39;2m(17.4s)\u001b[39;22m\u001b[34mResolving dependencies...\u001b[39m \u001b[39;2m(21.7s)\u001b[39;22m\u001b[34mResolving dependencies...\u001b[39m \u001b[39;2m(24.3s)\u001b[39;22m\u001b[34mResolving dependencies...\u001b[39m \u001b[39;2m(26.0s)\u001b[39;22m\u001b[34mResolving dependencies...\u001b[39m \u001b[39;2m(26.3s)\u001b[39;22m\u001b[34mResolving dependencies...\u001b[39m \u001b[39;2m(26.5s)\u001b[39;22m\u001b[34mResolving dependencies...\u001b[39m \u001b[39;2m(33.5s)\u001b[39;22m\u001b[34mResolving dependencies...\u001b[39m \u001b[39;2m(41.9s)\u001b[39;22m\u001b[34mResolving dependencies...\u001b[39m \u001b[39;2m(43.8s)\u001b[39;22m\u001b[34mResolving dependencies...\u001b[39m \u001b[39;2m(45.7s)\u001b[39;22m\u001b[34mResolving dependencies...\u001b[39m \u001b[39;2m(45.8s)\u001b[39;22m\u001b[34mResolving dependencies...\u001b[39m \u001b[39;2m(46.8s)\u001b[39;22m\u001b[34mResolving dependencies...\u001b[39m \u001b[39;2m(47.6s)\u001b[39;22m\u001b[34mResolving dependencies...\u001b[39m \u001b[39;2m(48.7s)\u001b[39;22m\u001b[34mResolving dependencies...\u001b[39m \u001b[39;2m(50.2s)\u001b[39;22m\u001b[34mResolving dependencies...\u001b[39m \u001b[39;2m(55.5s)\u001b[39;22m\u001b[34mResolving dependencies...\u001b[39m \u001b[39;2m(56.3s)\u001b[39;22m\u001b[34mResolving dependencies...\u001b[39m \u001b[39;2m(59.3s)\u001b[39;22m\u001b[34mResolving dependencies...\u001b[39m \u001b[39;2m(59.4s)\u001b[39;22m\u001b[34mResolving dependencies...\u001b[39m \u001b[39;2m(59.5s)\u001b[39;22m\u001b[34mResolving dependencies...\u001b[39m \u001b[39;2m(66.5s)\u001b[39;22m\u001b[34mResolving dependencies...\u001b[39m \u001b[39;2m(66.8s)\u001b[39;22m\u001b[34mResolving dependencies...\u001b[39m \u001b[39;2m(70.1s)\u001b[39;22m\u001b[34mResolving dependencies...\u001b[39m \u001b[39;2m(71.9s)\u001b[39;22m\u001b[34mResolving dependencies...\u001b[39m \u001b[39;2m(79.4s)\u001b[39;22m\u001b[34mResolving dependencies...\u001b[39m \u001b[39;2m(81.0s)\u001b[39;22m\u001b[34mResolving dependencies...\u001b[39m \u001b[39;2m(82.3s)\u001b[39;22m\u001b[34mResolving dependencies...\u001b[39m \u001b[39;2m(82.6s)\u001b[39;22m\n",
      "\n",
      "\u001b[34mWriting lock file\u001b[39m\n",
      "\n",
      "\u001b[39;1mPackage operations\u001b[39;22m: \u001b[34m0\u001b[39m installs, \u001b[34m1\u001b[39m update, \u001b[34m0\u001b[39m removals\n",
      "\n",
      "  \u001b[34;1m•\u001b[39;22m \u001b[39mUpdating \u001b[39m\u001b[36mnumpy\u001b[39m\u001b[39m (\u001b[39m\u001b[39;1m2.1.1\u001b[39;22m\u001b[39m -> \u001b[39m\u001b[39;1m2.1.2\u001b[39;22m\u001b[39m)\u001b[39m: \u001b[34mPending...\u001b[39m\n",
      "\u001b[1A\u001b[0J  \u001b[34;1m•\u001b[39;22m \u001b[39mUpdating \u001b[39m\u001b[36mnumpy\u001b[39m\u001b[39m (\u001b[39m\u001b[39;1m2.1.1\u001b[39;22m\u001b[39m -> \u001b[39m\u001b[39;1m2.1.2\u001b[39;22m\u001b[39m)\u001b[39m: \u001b[34mDownloading...\u001b[39m \u001b[39;1m0%\u001b[39;22m\n",
      "\u001b[1A\u001b[0J  \u001b[34;1m•\u001b[39;22m \u001b[39mUpdating \u001b[39m\u001b[36mnumpy\u001b[39m\u001b[39m (\u001b[39m\u001b[39;1m2.1.1\u001b[39;22m\u001b[39m -> \u001b[39m\u001b[39;1m2.1.2\u001b[39;22m\u001b[39m)\u001b[39m: \u001b[34mDownloading...\u001b[39m \u001b[39;1m60%\u001b[39;22m\n",
      "\u001b[1A\u001b[0J  \u001b[34;1m•\u001b[39;22m \u001b[39mUpdating \u001b[39m\u001b[36mnumpy\u001b[39m\u001b[39m (\u001b[39m\u001b[39;1m2.1.1\u001b[39;22m\u001b[39m -> \u001b[39m\u001b[39;1m2.1.2\u001b[39;22m\u001b[39m)\u001b[39m: \u001b[34mDownloading...\u001b[39m \u001b[39;1m100%\u001b[39;22m\n",
      "\u001b[1A\u001b[0J  \u001b[34;1m•\u001b[39;22m \u001b[39mUpdating \u001b[39m\u001b[36mnumpy\u001b[39m\u001b[39m (\u001b[39m\u001b[39;1m2.1.1\u001b[39;22m\u001b[39m -> \u001b[39m\u001b[39;1m2.1.2\u001b[39;22m\u001b[39m)\u001b[39m: \u001b[34mInstalling...\u001b[39m\n",
      "\u001b[1A\u001b[0J  \u001b[32;1m•\u001b[39;22m \u001b[39mUpdating \u001b[39m\u001b[36mnumpy\u001b[39m\u001b[39m (\u001b[39m\u001b[39;1m2.1.1\u001b[39;22m\u001b[39m -> \u001b[39m\u001b[32m2.1.2\u001b[39m\u001b[39m)\u001b[39m\n"
     ]
    }
   ],
   "source": [
    "!poetry add torchvision"
   ]
  },
  {
   "cell_type": "code",
   "execution_count": 7,
   "metadata": {},
   "outputs": [
    {
     "name": "stdout",
     "output_type": "stream",
     "text": [
      "Using version \u001b[39;1m^0.25.1\u001b[39;22m for \u001b[36mhuggingface-hub\u001b[39m\n",
      "\n",
      "\u001b[34mUpdating dependencies\u001b[39m\n",
      "\u001b[2K\u001b[34mResolving dependencies...\u001b[39m \u001b[39;2m(11.0s)\u001b[39;22m://files.pythonhosted.org/packages/12/90/3c9ff0512038035f59d279fddeb79f5f1eccd8859f06d6163c58798b9487/certifi-2024.8.30-py3-none-any.whl\u001b[39m \u001b[39;2m(10.9s)\u001b[39;22mg https://files.pythonhosted.org/packages/12/90/3c9ff0512038035f59d279fddeb79f5f1eccd8859f06d6163c58798b9487/certifi-2024.8.30-py3-none-any.whl\u001b[39m \u001b[39;2m(10.8s)\u001b[39;22m\u001b[34mResolving dependencies...\u001b[39m \u001b[39;2m(11.1s)\u001b[39;22m\n",
      "\n",
      "\u001b[34mWriting lock file\u001b[39m\n",
      "\n",
      "\u001b[39;1mPackage operations\u001b[39;22m: \u001b[34m0\u001b[39m installs, \u001b[34m5\u001b[39m updates, \u001b[34m0\u001b[39m removals\n",
      "\n",
      "  \u001b[34;1m•\u001b[39;22m \u001b[39mUpdating \u001b[39m\u001b[36mcertifi\u001b[39m\u001b[39m (\u001b[39m\u001b[39;1m2024.7.4\u001b[39;22m\u001b[39m -> \u001b[39m\u001b[39;1m2024.8.30\u001b[39;22m\u001b[39m)\u001b[39m: \u001b[34mPending...\u001b[39m\n",
      "  \u001b[34;1m•\u001b[39;22m \u001b[39mUpdating \u001b[39m\u001b[36midna\u001b[39m\u001b[39m (\u001b[39m\u001b[39;1m3.7\u001b[39;22m\u001b[39m -> \u001b[39m\u001b[39;1m3.10\u001b[39;22m\u001b[39m)\u001b[39m: \u001b[34mPending...\u001b[39m\n",
      "  \u001b[34;1m•\u001b[39;22m \u001b[39mUpdating \u001b[39m\u001b[36murllib3\u001b[39m\u001b[39m (\u001b[39m\u001b[39;1m2.2.2\u001b[39;22m\u001b[39m -> \u001b[39m\u001b[39;1m2.2.3\u001b[39;22m\u001b[39m)\u001b[39m: \u001b[34mPending...\u001b[39m\n",
      "\u001b[3A\u001b[0J  \u001b[34;1m•\u001b[39;22m \u001b[39mUpdating \u001b[39m\u001b[36midna\u001b[39m\u001b[39m (\u001b[39m\u001b[39;1m3.7\u001b[39;22m\u001b[39m -> \u001b[39m\u001b[39;1m3.10\u001b[39;22m\u001b[39m)\u001b[39m: \u001b[34mPending...\u001b[39m\n",
      "  \u001b[34;1m•\u001b[39;22m \u001b[39mUpdating \u001b[39m\u001b[36murllib3\u001b[39m\u001b[39m (\u001b[39m\u001b[39;1m2.2.2\u001b[39;22m\u001b[39m -> \u001b[39m\u001b[39;1m2.2.3\u001b[39;22m\u001b[39m)\u001b[39m: \u001b[34mPending...\u001b[39m\n",
      "\u001b[2A\u001b[0J  \u001b[34;1m•\u001b[39;22m \u001b[39mUpdating \u001b[39m\u001b[36mcertifi\u001b[39m\u001b[39m (\u001b[39m\u001b[39;1m2024.7.4\u001b[39;22m\u001b[39m -> \u001b[39m\u001b[39;1m2024.8.30\u001b[39;22m\u001b[39m)\u001b[39m: \u001b[34mDownloading...\u001b[39m \u001b[39;1m0%\u001b[39;22m\n",
      "  \u001b[34;1m•\u001b[39;22m \u001b[39mUpdating \u001b[39m\u001b[36midna\u001b[39m\u001b[39m (\u001b[39m\u001b[39;1m3.7\u001b[39;22m\u001b[39m -> \u001b[39m\u001b[39;1m3.10\u001b[39;22m\u001b[39m)\u001b[39m: \u001b[34mPending...\u001b[39m\n",
      "  \u001b[34;1m•\u001b[39;22m \u001b[39mUpdating \u001b[39m\u001b[36murllib3\u001b[39m\u001b[39m (\u001b[39m\u001b[39;1m2.2.2\u001b[39;22m\u001b[39m -> \u001b[39m\u001b[39;1m2.2.3\u001b[39;22m\u001b[39m)\u001b[39m: \u001b[34mPending...\u001b[39m\n",
      "\u001b[2A\u001b[0J  \u001b[34;1m•\u001b[39;22m \u001b[39mUpdating \u001b[39m\u001b[36murllib3\u001b[39m\u001b[39m (\u001b[39m\u001b[39;1m2.2.2\u001b[39;22m\u001b[39m -> \u001b[39m\u001b[39;1m2.2.3\u001b[39;22m\u001b[39m)\u001b[39m: \u001b[34mPending...\u001b[39m\n",
      "\u001b[1A\u001b[0J  \u001b[34;1m•\u001b[39;22m \u001b[39mUpdating \u001b[39m\u001b[36midna\u001b[39m\u001b[39m (\u001b[39m\u001b[39;1m3.7\u001b[39;22m\u001b[39m -> \u001b[39m\u001b[39;1m3.10\u001b[39;22m\u001b[39m)\u001b[39m: \u001b[34mDownloading...\u001b[39m \u001b[39;1m0%\u001b[39;22m\n",
      "  \u001b[34;1m•\u001b[39;22m \u001b[39mUpdating \u001b[39m\u001b[36murllib3\u001b[39m\u001b[39m (\u001b[39m\u001b[39;1m2.2.2\u001b[39;22m\u001b[39m -> \u001b[39m\u001b[39;1m2.2.3\u001b[39;22m\u001b[39m)\u001b[39m: \u001b[34mPending...\u001b[39m\n",
      "\u001b[1A\u001b[0J  \u001b[34;1m•\u001b[39;22m \u001b[39mUpdating \u001b[39m\u001b[36murllib3\u001b[39m\u001b[39m (\u001b[39m\u001b[39;1m2.2.2\u001b[39;22m\u001b[39m -> \u001b[39m\u001b[39;1m2.2.3\u001b[39;22m\u001b[39m)\u001b[39m: \u001b[34mDownloading...\u001b[39m \u001b[39;1m0%\u001b[39;22m\n",
      "\u001b[2A\u001b[0J  \u001b[34;1m•\u001b[39;22m \u001b[39mUpdating \u001b[39m\u001b[36murllib3\u001b[39m\u001b[39m (\u001b[39m\u001b[39;1m2.2.2\u001b[39;22m\u001b[39m -> \u001b[39m\u001b[39;1m2.2.3\u001b[39;22m\u001b[39m)\u001b[39m: \u001b[34mDownloading...\u001b[39m \u001b[39;1m0%\u001b[39;22m\n",
      "\u001b[1A\u001b[0J  \u001b[34;1m•\u001b[39;22m \u001b[39mUpdating \u001b[39m\u001b[36midna\u001b[39m\u001b[39m (\u001b[39m\u001b[39;1m3.7\u001b[39;22m\u001b[39m -> \u001b[39m\u001b[39;1m3.10\u001b[39;22m\u001b[39m)\u001b[39m: \u001b[34mDownloading...\u001b[39m \u001b[39;1m100%\u001b[39;22m\n",
      "  \u001b[34;1m•\u001b[39;22m \u001b[39mUpdating \u001b[39m\u001b[36murllib3\u001b[39m\u001b[39m (\u001b[39m\u001b[39;1m2.2.2\u001b[39;22m\u001b[39m -> \u001b[39m\u001b[39;1m2.2.3\u001b[39;22m\u001b[39m)\u001b[39m: \u001b[34mDownloading...\u001b[39m \u001b[39;1m0%\u001b[39;22m\n",
      "\u001b[2A\u001b[0J  \u001b[34;1m•\u001b[39;22m \u001b[39mUpdating \u001b[39m\u001b[36murllib3\u001b[39m\u001b[39m (\u001b[39m\u001b[39;1m2.2.2\u001b[39;22m\u001b[39m -> \u001b[39m\u001b[39;1m2.2.3\u001b[39;22m\u001b[39m)\u001b[39m: \u001b[34mDownloading...\u001b[39m \u001b[39;1m0%\u001b[39;22m\n",
      "\u001b[1A\u001b[0J  \u001b[34;1m•\u001b[39;22m \u001b[39mUpdating \u001b[39m\u001b[36midna\u001b[39m\u001b[39m (\u001b[39m\u001b[39;1m3.7\u001b[39;22m\u001b[39m -> \u001b[39m\u001b[39;1m3.10\u001b[39;22m\u001b[39m)\u001b[39m: \u001b[34mInstalling...\u001b[39m\n",
      "  \u001b[34;1m•\u001b[39;22m \u001b[39mUpdating \u001b[39m\u001b[36murllib3\u001b[39m\u001b[39m (\u001b[39m\u001b[39;1m2.2.2\u001b[39;22m\u001b[39m -> \u001b[39m\u001b[39;1m2.2.3\u001b[39;22m\u001b[39m)\u001b[39m: \u001b[34mDownloading...\u001b[39m \u001b[39;1m0%\u001b[39;22m\n",
      "\u001b[3A\u001b[0J  \u001b[34;1m•\u001b[39;22m \u001b[39mUpdating \u001b[39m\u001b[36midna\u001b[39m\u001b[39m (\u001b[39m\u001b[39;1m3.7\u001b[39;22m\u001b[39m -> \u001b[39m\u001b[39;1m3.10\u001b[39;22m\u001b[39m)\u001b[39m: \u001b[34mInstalling...\u001b[39m\n",
      "  \u001b[34;1m•\u001b[39;22m \u001b[39mUpdating \u001b[39m\u001b[36murllib3\u001b[39m\u001b[39m (\u001b[39m\u001b[39;1m2.2.2\u001b[39;22m\u001b[39m -> \u001b[39m\u001b[39;1m2.2.3\u001b[39;22m\u001b[39m)\u001b[39m: \u001b[34mDownloading...\u001b[39m \u001b[39;1m0%\u001b[39;22m\n",
      "\u001b[2A\u001b[0J  \u001b[34;1m•\u001b[39;22m \u001b[39mUpdating \u001b[39m\u001b[36mcertifi\u001b[39m\u001b[39m (\u001b[39m\u001b[39;1m2024.7.4\u001b[39;22m\u001b[39m -> \u001b[39m\u001b[39;1m2024.8.30\u001b[39;22m\u001b[39m)\u001b[39m: \u001b[34mDownloading...\u001b[39m \u001b[39;1m100%\u001b[39;22m\n",
      "  \u001b[34;1m•\u001b[39;22m \u001b[39mUpdating \u001b[39m\u001b[36midna\u001b[39m\u001b[39m (\u001b[39m\u001b[39;1m3.7\u001b[39;22m\u001b[39m -> \u001b[39m\u001b[39;1m3.10\u001b[39;22m\u001b[39m)\u001b[39m: \u001b[34mInstalling...\u001b[39m\n",
      "  \u001b[34;1m•\u001b[39;22m \u001b[39mUpdating \u001b[39m\u001b[36murllib3\u001b[39m\u001b[39m (\u001b[39m\u001b[39;1m2.2.2\u001b[39;22m\u001b[39m -> \u001b[39m\u001b[39;1m2.2.3\u001b[39;22m\u001b[39m)\u001b[39m: \u001b[34mDownloading...\u001b[39m \u001b[39;1m0%\u001b[39;22m\n",
      "\u001b[3A\u001b[0J  \u001b[34;1m•\u001b[39;22m \u001b[39mUpdating \u001b[39m\u001b[36midna\u001b[39m\u001b[39m (\u001b[39m\u001b[39;1m3.7\u001b[39;22m\u001b[39m -> \u001b[39m\u001b[39;1m3.10\u001b[39;22m\u001b[39m)\u001b[39m: \u001b[34mInstalling...\u001b[39m\n",
      "  \u001b[34;1m•\u001b[39;22m \u001b[39mUpdating \u001b[39m\u001b[36murllib3\u001b[39m\u001b[39m (\u001b[39m\u001b[39;1m2.2.2\u001b[39;22m\u001b[39m -> \u001b[39m\u001b[39;1m2.2.3\u001b[39;22m\u001b[39m)\u001b[39m: \u001b[34mDownloading...\u001b[39m \u001b[39;1m0%\u001b[39;22m\n",
      "\u001b[2A\u001b[0J  \u001b[34;1m•\u001b[39;22m \u001b[39mUpdating \u001b[39m\u001b[36mcertifi\u001b[39m\u001b[39m (\u001b[39m\u001b[39;1m2024.7.4\u001b[39;22m\u001b[39m -> \u001b[39m\u001b[39;1m2024.8.30\u001b[39;22m\u001b[39m)\u001b[39m: \u001b[34mInstalling...\u001b[39m\n",
      "  \u001b[34;1m•\u001b[39;22m \u001b[39mUpdating \u001b[39m\u001b[36midna\u001b[39m\u001b[39m (\u001b[39m\u001b[39;1m3.7\u001b[39;22m\u001b[39m -> \u001b[39m\u001b[39;1m3.10\u001b[39;22m\u001b[39m)\u001b[39m: \u001b[34mInstalling...\u001b[39m\n",
      "  \u001b[34;1m•\u001b[39;22m \u001b[39mUpdating \u001b[39m\u001b[36murllib3\u001b[39m\u001b[39m (\u001b[39m\u001b[39;1m2.2.2\u001b[39;22m\u001b[39m -> \u001b[39m\u001b[39;1m2.2.3\u001b[39;22m\u001b[39m)\u001b[39m: \u001b[34mDownloading...\u001b[39m \u001b[39;1m0%\u001b[39;22m\n",
      "\u001b[1A\u001b[0J  \u001b[34;1m•\u001b[39;22m \u001b[39mUpdating \u001b[39m\u001b[36murllib3\u001b[39m\u001b[39m (\u001b[39m\u001b[39;1m2.2.2\u001b[39;22m\u001b[39m -> \u001b[39m\u001b[39;1m2.2.3\u001b[39;22m\u001b[39m)\u001b[39m: \u001b[34mDownloading...\u001b[39m \u001b[39;1m100%\u001b[39;22m\n",
      "\u001b[1A\u001b[0J  \u001b[34;1m•\u001b[39;22m \u001b[39mUpdating \u001b[39m\u001b[36murllib3\u001b[39m\u001b[39m (\u001b[39m\u001b[39;1m2.2.2\u001b[39;22m\u001b[39m -> \u001b[39m\u001b[39;1m2.2.3\u001b[39;22m\u001b[39m)\u001b[39m: \u001b[34mInstalling...\u001b[39m\n",
      "\u001b[3A\u001b[0J  \u001b[34;1m•\u001b[39;22m \u001b[39mUpdating \u001b[39m\u001b[36midna\u001b[39m\u001b[39m (\u001b[39m\u001b[39;1m3.7\u001b[39;22m\u001b[39m -> \u001b[39m\u001b[39;1m3.10\u001b[39;22m\u001b[39m)\u001b[39m: \u001b[34mInstalling...\u001b[39m\n",
      "  \u001b[34;1m•\u001b[39;22m \u001b[39mUpdating \u001b[39m\u001b[36murllib3\u001b[39m\u001b[39m (\u001b[39m\u001b[39;1m2.2.2\u001b[39;22m\u001b[39m -> \u001b[39m\u001b[39;1m2.2.3\u001b[39;22m\u001b[39m)\u001b[39m: \u001b[34mInstalling...\u001b[39m\n",
      "\u001b[2A\u001b[0J  \u001b[32;1m•\u001b[39;22m \u001b[39mUpdating \u001b[39m\u001b[36mcertifi\u001b[39m\u001b[39m (\u001b[39m\u001b[39;1m2024.7.4\u001b[39;22m\u001b[39m -> \u001b[39m\u001b[32m2024.8.30\u001b[39m\u001b[39m)\u001b[39m\n",
      "  \u001b[34;1m•\u001b[39;22m \u001b[39mUpdating \u001b[39m\u001b[36midna\u001b[39m\u001b[39m (\u001b[39m\u001b[39;1m3.7\u001b[39;22m\u001b[39m -> \u001b[39m\u001b[39;1m3.10\u001b[39;22m\u001b[39m)\u001b[39m: \u001b[34mInstalling...\u001b[39m\n",
      "  \u001b[34;1m•\u001b[39;22m \u001b[39mUpdating \u001b[39m\u001b[36murllib3\u001b[39m\u001b[39m (\u001b[39m\u001b[39;1m2.2.2\u001b[39;22m\u001b[39m -> \u001b[39m\u001b[39;1m2.2.3\u001b[39;22m\u001b[39m)\u001b[39m: \u001b[34mInstalling...\u001b[39m\n",
      "\u001b[1A\u001b[0J  \u001b[32;1m•\u001b[39;22m \u001b[39mUpdating \u001b[39m\u001b[36murllib3\u001b[39m\u001b[39m (\u001b[39m\u001b[39;1m2.2.2\u001b[39;22m\u001b[39m -> \u001b[39m\u001b[32m2.2.3\u001b[39m\u001b[39m)\u001b[39m\n",
      "\u001b[2A\u001b[0J  \u001b[32;1m•\u001b[39;22m \u001b[39mUpdating \u001b[39m\u001b[36murllib3\u001b[39m\u001b[39m (\u001b[39m\u001b[39;1m2.2.2\u001b[39;22m\u001b[39m -> \u001b[39m\u001b[32m2.2.3\u001b[39m\u001b[39m)\u001b[39m\n",
      "\u001b[1A\u001b[0J  \u001b[32;1m•\u001b[39;22m \u001b[39mUpdating \u001b[39m\u001b[36midna\u001b[39m\u001b[39m (\u001b[39m\u001b[39;1m3.7\u001b[39;22m\u001b[39m -> \u001b[39m\u001b[32m3.10\u001b[39m\u001b[39m)\u001b[39m\n",
      "  \u001b[32;1m•\u001b[39;22m \u001b[39mUpdating \u001b[39m\u001b[36murllib3\u001b[39m\u001b[39m (\u001b[39m\u001b[39;1m2.2.2\u001b[39;22m\u001b[39m -> \u001b[39m\u001b[32m2.2.3\u001b[39m\u001b[39m)\u001b[39m\n",
      "  \u001b[34;1m•\u001b[39;22m \u001b[39mUpdating \u001b[39m\u001b[36mpackaging\u001b[39m\u001b[39m (\u001b[39m\u001b[39;1m24.1 /home/conda/feedstock_root/build_artifacts/packaging_1718189413536/work\u001b[39;22m\u001b[39m -> \u001b[39m\u001b[39;1m24.1\u001b[39;22m\u001b[39m)\u001b[39m: \u001b[34mPending...\u001b[39m\n",
      "\u001b[2A\u001b[0J  \u001b[34;1m•\u001b[39;22m \u001b[39mUpdating \u001b[39m\u001b[36mpackaging\u001b[39m\u001b[39m (\u001b[39m\u001b[39;1m24.1 /home/conda/feedstock_root/build_artifacts/packaging_1718189413536/work\u001b[39;22m\u001b[39m -> \u001b[39m\u001b[39;1m24.1\u001b[39;22m\u001b[39m)\u001b[39m: \u001b[34mDownloading...\u001b[39m \u001b[39;1m0%\u001b[39;22m\n",
      "\u001b[2A\u001b[0J  \u001b[34;1m•\u001b[39;22m \u001b[39mUpdating \u001b[39m\u001b[36mpackaging\u001b[39m\u001b[39m (\u001b[39m\u001b[39;1m24.1 /home/conda/feedstock_root/build_artifacts/packaging_1718189413536/work\u001b[39;22m\u001b[39m -> \u001b[39m\u001b[39;1m24.1\u001b[39;22m\u001b[39m)\u001b[39m: \u001b[34mDownloading...\u001b[39m \u001b[39;1m100%\u001b[39;22m\n",
      "\u001b[2A\u001b[0J  \u001b[34;1m•\u001b[39;22m \u001b[39mUpdating \u001b[39m\u001b[36mpackaging\u001b[39m\u001b[39m (\u001b[39m\u001b[39;1m24.1 /home/conda/feedstock_root/build_artifacts/packaging_1718189413536/work\u001b[39;22m\u001b[39m -> \u001b[39m\u001b[39;1m24.1\u001b[39;22m\u001b[39m)\u001b[39m: \u001b[34mInstalling...\u001b[39m\n",
      "\u001b[2A\u001b[0J  \u001b[32;1m•\u001b[39;22m \u001b[39mUpdating \u001b[39m\u001b[36mpackaging\u001b[39m\u001b[39m (\u001b[39m\u001b[39;1m24.1 /home/conda/feedstock_root/build_artifacts/packaging_1718189413536/work\u001b[39;22m\u001b[39m -> \u001b[39m\u001b[32m24.1\u001b[39m\u001b[39m)\u001b[39m\n",
      "  \u001b[34;1m•\u001b[39;22m \u001b[39mUpdating \u001b[39m\u001b[36mhuggingface-hub\u001b[39m\u001b[39m (\u001b[39m\u001b[39;1m0.24.6\u001b[39;22m\u001b[39m -> \u001b[39m\u001b[39;1m0.25.1\u001b[39;22m\u001b[39m)\u001b[39m: \u001b[34mPending...\u001b[39m\n",
      "\u001b[1A\u001b[0J  \u001b[34;1m•\u001b[39;22m \u001b[39mUpdating \u001b[39m\u001b[36mhuggingface-hub\u001b[39m\u001b[39m (\u001b[39m\u001b[39;1m0.24.6\u001b[39;22m\u001b[39m -> \u001b[39m\u001b[39;1m0.25.1\u001b[39;22m\u001b[39m)\u001b[39m: \u001b[34mDownloading...\u001b[39m \u001b[39;1m0%\u001b[39;22m\n",
      "\u001b[1A\u001b[0J  \u001b[34;1m•\u001b[39;22m \u001b[39mUpdating \u001b[39m\u001b[36mhuggingface-hub\u001b[39m\u001b[39m (\u001b[39m\u001b[39;1m0.24.6\u001b[39;22m\u001b[39m -> \u001b[39m\u001b[39;1m0.25.1\u001b[39;22m\u001b[39m)\u001b[39m: \u001b[34mDownloading...\u001b[39m \u001b[39;1m70%\u001b[39;22m\n",
      "\u001b[1A\u001b[0J  \u001b[34;1m•\u001b[39;22m \u001b[39mUpdating \u001b[39m\u001b[36mhuggingface-hub\u001b[39m\u001b[39m (\u001b[39m\u001b[39;1m0.24.6\u001b[39;22m\u001b[39m -> \u001b[39m\u001b[39;1m0.25.1\u001b[39;22m\u001b[39m)\u001b[39m: \u001b[34mDownloading...\u001b[39m \u001b[39;1m100%\u001b[39;22m\n",
      "\u001b[1A\u001b[0J  \u001b[34;1m•\u001b[39;22m \u001b[39mUpdating \u001b[39m\u001b[36mhuggingface-hub\u001b[39m\u001b[39m (\u001b[39m\u001b[39;1m0.24.6\u001b[39;22m\u001b[39m -> \u001b[39m\u001b[39;1m0.25.1\u001b[39;22m\u001b[39m)\u001b[39m: \u001b[34mInstalling...\u001b[39m\n",
      "\u001b[1A\u001b[0J  \u001b[32;1m•\u001b[39;22m \u001b[39mUpdating \u001b[39m\u001b[36mhuggingface-hub\u001b[39m\u001b[39m (\u001b[39m\u001b[39;1m0.24.6\u001b[39;22m\u001b[39m -> \u001b[39m\u001b[32m0.25.1\u001b[39m\u001b[39m)\u001b[39m\n"
     ]
    }
   ],
   "source": [
    "!poetry add huggingface-hub"
   ]
  },
  {
   "cell_type": "code",
   "execution_count": 8,
   "metadata": {},
   "outputs": [
    {
     "name": "stdout",
     "output_type": "stream",
     "text": [
      "zsh:cd:1: no such file or directory: models\n"
     ]
    }
   ],
   "source": [
    "!cd models"
   ]
  },
  {
   "cell_type": "code",
   "execution_count": 9,
   "metadata": {},
   "outputs": [],
   "source": [
    "import torch\n",
    "\n",
    "device = torch.device(\n",
    "    \"cuda\"\n",
    "    if torch.cuda.is_available()\n",
    "    else \"mps\" if torch.backends.mps.is_available() else \"cpu\"\n",
    ")"
   ]
  },
  {
   "cell_type": "code",
   "execution_count": 10,
   "metadata": {},
   "outputs": [
    {
     "data": {
      "text/plain": [
       "device(type='mps')"
      ]
     },
     "execution_count": 10,
     "metadata": {},
     "output_type": "execute_result"
    }
   ],
   "source": [
    "device"
   ]
  },
  {
   "cell_type": "code",
   "execution_count": 11,
   "metadata": {},
   "outputs": [],
   "source": [
    "!cd llama.cpp/models/"
   ]
  },
  {
   "cell_type": "code",
   "execution_count": 12,
   "metadata": {},
   "outputs": [
    {
     "name": "stdout",
     "output_type": "stream",
     "text": [
      "/Users/snehsuresh/anaconda3/envs/mynewenv/lib/python3.11/site-packages/huggingface_hub/commands/download.py:139: FutureWarning: Ignoring --local-dir-use-symlinks. Downloading to a local directory does not use symlinks anymore.\n",
      "  warnings.warn(\n",
      "Downloading 'mistral-7b-instruct-v0.1.Q5_0.gguf' to '.cache/huggingface/download/mistral-7b-instruct-v0.1.Q5_0.gguf.91ede5be494b57ed5e466cb4a6716a808b44386760e79dd9ebae0e492919674d.incomplete'\n",
      "mistral-7b-instruct-v0.1.Q5_0.gguf: 100%|██| 5.00G/5.00G [02:09<00:00, 38.7MB/s]\n",
      "Download complete. Moving file to mistral-7b-instruct-v0.1.Q5_0.gguf\n",
      "mistral-7b-instruct-v0.1.Q5_0.gguf\n"
     ]
    }
   ],
   "source": [
    "!huggingface-cli download TheBloke/Mistral-7B-Instruct-v0.1-GGUF mistral-7b-instruct-v0.1.Q5_0.gguf --local-dir . --local-dir-use-symlinks False\n"
   ]
  },
  {
   "cell_type": "code",
   "execution_count": 16,
   "metadata": {},
   "outputs": [
    {
     "name": "stdout",
     "output_type": "stream",
     "text": [
      "/Users/snehsuresh/Desktop/Projects/SavingPrivacyPolicy\n"
     ]
    }
   ],
   "source": [
    "!cd llama.cpp/models/\n",
    "#!./llama-cli -m ./models/mistral-7b-instruct-v0.1.Q5_0.gguf -t 6 -n 128 -p 'Send me an example json data'"
   ]
  },
  {
   "cell_type": "code",
   "execution_count": 21,
   "metadata": {},
   "outputs": [],
   "source": [
    "\n",
    "import os\n",
    "os.chdir('models/')"
   ]
  },
  {
   "cell_type": "code",
   "execution_count": 22,
   "metadata": {},
   "outputs": [
    {
     "name": "stdout",
     "output_type": "stream",
     "text": [
      "/Users/snehsuresh/Desktop/Projects/SavingPrivacyPolicy/llama.cpp/models\n"
     ]
    }
   ],
   "source": [
    "!pwd"
   ]
  },
  {
   "cell_type": "code",
   "execution_count": 24,
   "metadata": {},
   "outputs": [
    {
     "name": "stdout",
     "output_type": "stream",
     "text": [
      "/Users/snehsuresh/anaconda3/envs/mynewenv/lib/python3.11/site-packages/huggingface_hub/commands/download.py:139: FutureWarning: Ignoring --local-dir-use-symlinks. Downloading to a local directory does not use symlinks anymore.\n",
      "  warnings.warn(\n",
      "Downloading 'mistral-7b-instruct-v0.1.Q4_K_M.gguf' to '.cache/huggingface/download/mistral-7b-instruct-v0.1.Q4_K_M.gguf.14466f9d658bf4a79f96c3f3f22759707c291cac4e62fea625e80c7d32169991.incomplete'\n",
      "/Users/snehsuresh/anaconda3/envs/mynewenv/lib/python3.11/site-packages/huggingface_hub/file_download.py:983: UserWarning: Not enough free disk space to download the file. The expected file size is: 4368.44 MB. The target location .cache/huggingface/download only has 96.83 MB free disk space.\n",
      "  warnings.warn(\n",
      "/Users/snehsuresh/anaconda3/envs/mynewenv/lib/python3.11/site-packages/huggingface_hub/file_download.py:983: UserWarning: Not enough free disk space to download the file. The expected file size is: 4368.44 MB. The target location . only has 96.83 MB free disk space.\n",
      "  warnings.warn(\n",
      "mistral-7b-instruct-v0.1.Q4_K_M.gguf:   1%| | 62.9M/4.37G [00:02<03:02, 23.6MB/s\n",
      "Traceback (most recent call last):\n",
      "  File \"/Users/snehsuresh/anaconda3/envs/mynewenv/bin/huggingface-cli\", line 8, in <module>\n",
      "    sys.exit(main())\n",
      "             ^^^^^^\n",
      "  File \"/Users/snehsuresh/anaconda3/envs/mynewenv/lib/python3.11/site-packages/huggingface_hub/commands/huggingface_cli.py\", line 57, in main\n",
      "    service.run()\n",
      "  File \"/Users/snehsuresh/anaconda3/envs/mynewenv/lib/python3.11/site-packages/huggingface_hub/commands/download.py\", line 153, in run\n",
      "    print(self._download())  # Print path to downloaded files\n",
      "          ^^^^^^^^^^^^^^^^\n",
      "  File \"/Users/snehsuresh/anaconda3/envs/mynewenv/lib/python3.11/site-packages/huggingface_hub/commands/download.py\", line 166, in _download\n",
      "    return hf_hub_download(\n",
      "           ^^^^^^^^^^^^^^^^\n",
      "  File \"/Users/snehsuresh/anaconda3/envs/mynewenv/lib/python3.11/site-packages/huggingface_hub/utils/_deprecation.py\", line 101, in inner_f\n",
      "    return f(*args, **kwargs)\n",
      "           ^^^^^^^^^^^^^^^^^^\n",
      "  File \"/Users/snehsuresh/anaconda3/envs/mynewenv/lib/python3.11/site-packages/huggingface_hub/utils/_validators.py\", line 114, in _inner_fn\n",
      "    return fn(*args, **kwargs)\n",
      "           ^^^^^^^^^^^^^^^^^^^\n",
      "  File \"/Users/snehsuresh/anaconda3/envs/mynewenv/lib/python3.11/site-packages/huggingface_hub/file_download.py\", line 1212, in hf_hub_download\n",
      "    return _hf_hub_download_to_local_dir(\n",
      "           ^^^^^^^^^^^^^^^^^^^^^^^^^^^^^^\n",
      "  File \"/Users/snehsuresh/anaconda3/envs/mynewenv/lib/python3.11/site-packages/huggingface_hub/file_download.py\", line 1508, in _hf_hub_download_to_local_dir\n",
      "    _download_to_tmp_and_move(\n",
      "  File \"/Users/snehsuresh/anaconda3/envs/mynewenv/lib/python3.11/site-packages/huggingface_hub/file_download.py\", line 1915, in _download_to_tmp_and_move\n",
      "    http_get(\n",
      "  File \"/Users/snehsuresh/anaconda3/envs/mynewenv/lib/python3.11/site-packages/huggingface_hub/file_download.py\", line 544, in http_get\n",
      "    temp_file.write(chunk)\n",
      "OSError: [Errno 28] No space left on device\n"
     ]
    }
   ],
   "source": [
    "!huggingface-cli download TheBloke/Mistral-7B-Instruct-v0.1-GGUF mistral-7b-instruct-v0.1.Q4_K_M.gguf --local-dir . --local-dir-use-symlinks False\n"
   ]
  },
  {
   "cell_type": "code",
   "execution_count": null,
   "metadata": {},
   "outputs": [],
   "source": [
    "./llama-cli -m ./models/mistral-7b-instruct-v0.1.Q8_0.gguf -t 6 -n 128 -b 512 -p 'Send me an example json data'"
   ]
  }
 ],
 "metadata": {
  "kernelspec": {
   "display_name": "mynewenv",
   "language": "python",
   "name": "python3"
  },
  "language_info": {
   "codemirror_mode": {
    "name": "ipython",
    "version": 3
   },
   "file_extension": ".py",
   "mimetype": "text/x-python",
   "name": "python",
   "nbconvert_exporter": "python",
   "pygments_lexer": "ipython3",
   "version": "3.11.10"
  }
 },
 "nbformat": 4,
 "nbformat_minor": 2
}
